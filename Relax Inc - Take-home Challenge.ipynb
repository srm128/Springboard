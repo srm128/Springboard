{
 "cells": [
  {
   "cell_type": "code",
   "execution_count": 1,
   "id": "b95a0468",
   "metadata": {},
   "outputs": [],
   "source": [
    "import pandas as pd\n",
    "import numpy as np\n",
    "import datetime\n",
    "from datetime import timedelta\n",
    "import matplotlib.pyplot as plt\n",
    "import seaborn as sns\n",
    "from sklearn.model_selection import train_test_split\n",
    "from sklearn.preprocessing import LabelEncoder\n",
    "from sklearn.linear_model import LogisticRegression\n",
    "from sklearn.ensemble import RandomForestClassifier\n",
    "import matplotlib.pyplot as plt\n",
    "from sklearn.preprocessing import OneHotEncoder\n",
    "from sklearn.ensemble import RandomForestClassifier\n",
    "from sklearn.model_selection import GridSearchCV\n"
   ]
  },
  {
   "cell_type": "markdown",
   "id": "39499102",
   "metadata": {},
   "source": [
    "The  data  is  available  as  two  attached  CSV  files:\n",
    "\n",
    " - takehome_user_engagement. csv\n",
    " \n",
    " - takehome_users . csv\n",
    " \n",
    "The  data  has  the  following  two  tables:\n",
    "\n",
    "1]  A  user  table  ( \"takehome_users\" )  with  data  on  12,000  users  who  signed  up  for  the\n",
    "product  in  the  last  two  years.   This  table  includes:\n",
    "\n",
    "● name:  the  user's  name\n",
    "\n",
    "● object_id:   the  user's  id\n",
    "\n",
    "● email:  email  address\n",
    "\n",
    "● creation_source:   how  their  account  was  created.  This  takes  on  one of  5  values:\n",
    "\n",
    "    ○ PERSONAL_PROJECTS:  invited  to  join  another  user's personal  workspace\n",
    "    ○ GUEST_INVITE:  invited  to  an  organization  as  a  guest (limited  permissions)\n",
    "    ○ ORG_INVITE:  invited  to  an  organization  (as  a  full  member)\n",
    "    ○ SIGNUP:  signed  up  via  the  website\n",
    "    ○ SIGNUP_GOOGLE_AUTH:  signed  up  using  Google Authentication  (using  a  Google\n",
    "    email  account  for  their  login id)\n",
    "\n",
    "● creation_time:  when  they  created  their  account\n",
    "\n",
    "● last_session_creation_time:   unix  timestamp  of  last  login\n",
    "\n",
    "● opted_in_to_mailing_list:  whether  they  have  opted  into  receiving marketing  emails\n",
    "\n",
    "● enabled_for_marketing_drip:  whether  they  are  on  the  regular marketing  email  drip\n",
    "\n",
    "● org_id:   the  organization  (group  of  users)  they  belong  to\n",
    "\n",
    "● invited_by_user_id:   which  user  invited  them  to  join  (if  applicable).\n",
    "\n",
    "2]  A  usage  summary  table  ( \"takehome_user_engagement\" )  that  has  a  row  for  each  day that  a  user  logged  into  the  product"
   ]
  },
  {
   "cell_type": "code",
   "execution_count": 2,
   "id": "d5ab091c",
   "metadata": {},
   "outputs": [],
   "source": [
    "users_df = pd.read_csv('takehome_users.csv', encoding='latin1')\n",
    "engage_df = pd.read_csv('takehome_user_engagement.csv')"
   ]
  },
  {
   "cell_type": "code",
   "execution_count": 3,
   "id": "ff69d6fe",
   "metadata": {
    "scrolled": true
   },
   "outputs": [
    {
     "data": {
      "text/html": [
       "<div>\n",
       "<style scoped>\n",
       "    .dataframe tbody tr th:only-of-type {\n",
       "        vertical-align: middle;\n",
       "    }\n",
       "\n",
       "    .dataframe tbody tr th {\n",
       "        vertical-align: top;\n",
       "    }\n",
       "\n",
       "    .dataframe thead th {\n",
       "        text-align: right;\n",
       "    }\n",
       "</style>\n",
       "<table border=\"1\" class=\"dataframe\">\n",
       "  <thead>\n",
       "    <tr style=\"text-align: right;\">\n",
       "      <th></th>\n",
       "      <th>object_id</th>\n",
       "      <th>creation_time</th>\n",
       "      <th>name</th>\n",
       "      <th>email</th>\n",
       "      <th>creation_source</th>\n",
       "      <th>last_session_creation_time</th>\n",
       "      <th>opted_in_to_mailing_list</th>\n",
       "      <th>enabled_for_marketing_drip</th>\n",
       "      <th>org_id</th>\n",
       "      <th>invited_by_user_id</th>\n",
       "    </tr>\n",
       "  </thead>\n",
       "  <tbody>\n",
       "    <tr>\n",
       "      <th>0</th>\n",
       "      <td>1</td>\n",
       "      <td>2014-04-22 03:53:30</td>\n",
       "      <td>Clausen August</td>\n",
       "      <td>AugustCClausen@yahoo.com</td>\n",
       "      <td>GUEST_INVITE</td>\n",
       "      <td>1.398139e+09</td>\n",
       "      <td>1</td>\n",
       "      <td>0</td>\n",
       "      <td>11</td>\n",
       "      <td>10803.0</td>\n",
       "    </tr>\n",
       "    <tr>\n",
       "      <th>1</th>\n",
       "      <td>2</td>\n",
       "      <td>2013-11-15 03:45:04</td>\n",
       "      <td>Poole Matthew</td>\n",
       "      <td>MatthewPoole@gustr.com</td>\n",
       "      <td>ORG_INVITE</td>\n",
       "      <td>1.396238e+09</td>\n",
       "      <td>0</td>\n",
       "      <td>0</td>\n",
       "      <td>1</td>\n",
       "      <td>316.0</td>\n",
       "    </tr>\n",
       "    <tr>\n",
       "      <th>2</th>\n",
       "      <td>3</td>\n",
       "      <td>2013-03-19 23:14:52</td>\n",
       "      <td>Bottrill Mitchell</td>\n",
       "      <td>MitchellBottrill@gustr.com</td>\n",
       "      <td>ORG_INVITE</td>\n",
       "      <td>1.363735e+09</td>\n",
       "      <td>0</td>\n",
       "      <td>0</td>\n",
       "      <td>94</td>\n",
       "      <td>1525.0</td>\n",
       "    </tr>\n",
       "    <tr>\n",
       "      <th>3</th>\n",
       "      <td>4</td>\n",
       "      <td>2013-05-21 08:09:28</td>\n",
       "      <td>Clausen Nicklas</td>\n",
       "      <td>NicklasSClausen@yahoo.com</td>\n",
       "      <td>GUEST_INVITE</td>\n",
       "      <td>1.369210e+09</td>\n",
       "      <td>0</td>\n",
       "      <td>0</td>\n",
       "      <td>1</td>\n",
       "      <td>5151.0</td>\n",
       "    </tr>\n",
       "    <tr>\n",
       "      <th>4</th>\n",
       "      <td>5</td>\n",
       "      <td>2013-01-17 10:14:20</td>\n",
       "      <td>Raw Grace</td>\n",
       "      <td>GraceRaw@yahoo.com</td>\n",
       "      <td>GUEST_INVITE</td>\n",
       "      <td>1.358850e+09</td>\n",
       "      <td>0</td>\n",
       "      <td>0</td>\n",
       "      <td>193</td>\n",
       "      <td>5240.0</td>\n",
       "    </tr>\n",
       "  </tbody>\n",
       "</table>\n",
       "</div>"
      ],
      "text/plain": [
       "   object_id        creation_time               name  \\\n",
       "0          1  2014-04-22 03:53:30     Clausen August   \n",
       "1          2  2013-11-15 03:45:04      Poole Matthew   \n",
       "2          3  2013-03-19 23:14:52  Bottrill Mitchell   \n",
       "3          4  2013-05-21 08:09:28    Clausen Nicklas   \n",
       "4          5  2013-01-17 10:14:20          Raw Grace   \n",
       "\n",
       "                        email creation_source  last_session_creation_time  \\\n",
       "0    AugustCClausen@yahoo.com    GUEST_INVITE                1.398139e+09   \n",
       "1      MatthewPoole@gustr.com      ORG_INVITE                1.396238e+09   \n",
       "2  MitchellBottrill@gustr.com      ORG_INVITE                1.363735e+09   \n",
       "3   NicklasSClausen@yahoo.com    GUEST_INVITE                1.369210e+09   \n",
       "4          GraceRaw@yahoo.com    GUEST_INVITE                1.358850e+09   \n",
       "\n",
       "   opted_in_to_mailing_list  enabled_for_marketing_drip  org_id  \\\n",
       "0                         1                           0      11   \n",
       "1                         0                           0       1   \n",
       "2                         0                           0      94   \n",
       "3                         0                           0       1   \n",
       "4                         0                           0     193   \n",
       "\n",
       "   invited_by_user_id  \n",
       "0             10803.0  \n",
       "1               316.0  \n",
       "2              1525.0  \n",
       "3              5151.0  \n",
       "4              5240.0  "
      ]
     },
     "execution_count": 3,
     "metadata": {},
     "output_type": "execute_result"
    }
   ],
   "source": [
    "users_df.head()"
   ]
  },
  {
   "cell_type": "code",
   "execution_count": 4,
   "id": "521e3b09",
   "metadata": {},
   "outputs": [
    {
     "data": {
      "text/html": [
       "<div>\n",
       "<style scoped>\n",
       "    .dataframe tbody tr th:only-of-type {\n",
       "        vertical-align: middle;\n",
       "    }\n",
       "\n",
       "    .dataframe tbody tr th {\n",
       "        vertical-align: top;\n",
       "    }\n",
       "\n",
       "    .dataframe thead th {\n",
       "        text-align: right;\n",
       "    }\n",
       "</style>\n",
       "<table border=\"1\" class=\"dataframe\">\n",
       "  <thead>\n",
       "    <tr style=\"text-align: right;\">\n",
       "      <th></th>\n",
       "      <th>time_stamp</th>\n",
       "      <th>user_id</th>\n",
       "      <th>visited</th>\n",
       "    </tr>\n",
       "  </thead>\n",
       "  <tbody>\n",
       "    <tr>\n",
       "      <th>0</th>\n",
       "      <td>2014-04-22 03:53:30</td>\n",
       "      <td>1</td>\n",
       "      <td>1</td>\n",
       "    </tr>\n",
       "    <tr>\n",
       "      <th>1</th>\n",
       "      <td>2013-11-15 03:45:04</td>\n",
       "      <td>2</td>\n",
       "      <td>1</td>\n",
       "    </tr>\n",
       "    <tr>\n",
       "      <th>2</th>\n",
       "      <td>2013-11-29 03:45:04</td>\n",
       "      <td>2</td>\n",
       "      <td>1</td>\n",
       "    </tr>\n",
       "    <tr>\n",
       "      <th>3</th>\n",
       "      <td>2013-12-09 03:45:04</td>\n",
       "      <td>2</td>\n",
       "      <td>1</td>\n",
       "    </tr>\n",
       "    <tr>\n",
       "      <th>4</th>\n",
       "      <td>2013-12-25 03:45:04</td>\n",
       "      <td>2</td>\n",
       "      <td>1</td>\n",
       "    </tr>\n",
       "  </tbody>\n",
       "</table>\n",
       "</div>"
      ],
      "text/plain": [
       "            time_stamp  user_id  visited\n",
       "0  2014-04-22 03:53:30        1        1\n",
       "1  2013-11-15 03:45:04        2        1\n",
       "2  2013-11-29 03:45:04        2        1\n",
       "3  2013-12-09 03:45:04        2        1\n",
       "4  2013-12-25 03:45:04        2        1"
      ]
     },
     "execution_count": 4,
     "metadata": {},
     "output_type": "execute_result"
    }
   ],
   "source": [
    "engage_df.head()"
   ]
  },
  {
   "cell_type": "code",
   "execution_count": 5,
   "id": "1a0e227f",
   "metadata": {},
   "outputs": [
    {
     "name": "stdout",
     "output_type": "stream",
     "text": [
      "8823 users for a 207917 total logins\n"
     ]
    }
   ],
   "source": [
    "# Check how many users and how many logins\n",
    "print('{} users for a {} total logins'.format(\n",
    "    engage_df['user_id'].nunique(), len(engage_df)\n",
    "))"
   ]
  },
  {
   "cell_type": "code",
   "execution_count": 6,
   "id": "72d0c997",
   "metadata": {},
   "outputs": [],
   "source": [
    "# Merge the DataFrames based on the \"user_id\" column using an inner join\n",
    "df = pd.merge(engage_df, users_df, left_on=\"user_id\", right_on=\"object_id\", how=\"inner\")\n",
    "\n",
    "# Drop the redundant \"object_id\" column (since it's the same as \"user_id\")\n",
    "df.drop(\"object_id\", axis=1, inplace=True)\n"
   ]
  },
  {
   "cell_type": "code",
   "execution_count": 7,
   "id": "e5862b2a",
   "metadata": {},
   "outputs": [],
   "source": [
    "# Convert date columns to datetime objects\n",
    "df['time_stamp'] = pd.to_datetime(df['time_stamp'])\n",
    "df['creation_time'] = pd.to_datetime(df['creation_time'])\n",
    "df['last_session_creation_time'] = pd.to_datetime(df['last_session_creation_time'])\n",
    "\n",
    "def identify_adopted_users(df):\n",
    "    # Sort the DataFrame by 'user_id' and 'time_stamp' for consistent calculations\n",
    "    df.sort_values(by=['user_id', 'time_stamp'], inplace=True)\n",
    "    \n",
    "    # Group by 'user_id' and calculate the time difference between consecutive logins\n",
    "    df['time_diff'] = df.groupby('user_id')['time_stamp'].diff()\n",
    "    \n",
    "    # Define a function to check if a user has logged in on three separate days in a seven-day period\n",
    "    def check_adopted(group):\n",
    "        consecutive_days = 0\n",
    "        for diff in group['time_diff']:\n",
    "            if pd.notnull(diff) and diff <= pd.Timedelta(days=7):\n",
    "                consecutive_days += 1\n",
    "                if consecutive_days >= 3:\n",
    "                    return 1  # User is adopted\n",
    "            else:\n",
    "                consecutive_days = 0\n",
    "        return 0  # User is not adopted\n",
    "    \n",
    "    # Apply the check_adopted function to each user's login history\n",
    "    adopted_users = df.groupby('user_id').apply(check_adopted)\n",
    "    \n",
    "    # Create a DataFrame with 'user_id' and 'adopted_user' columns\n",
    "    adopted_users_df = pd.DataFrame({'user_id': adopted_users.index, 'adopted_user': adopted_users.values})\n",
    "    \n",
    "    return adopted_users_df\n",
    "\n",
    "# Call the function to identify adopted users\n",
    "adopted_users_df = identify_adopted_users(df)\n",
    "\n",
    "# Merge the adopted user information back into the main DataFrame\n",
    "df = pd.merge(df, adopted_users_df, on='user_id', how='left')\n",
    "\n",
    "# Fill missing values (users who are not adopted) with 0\n",
    "df['adopted_user'].fillna(0, inplace=True)\n"
   ]
  },
  {
   "cell_type": "code",
   "execution_count": 8,
   "id": "63141ff1",
   "metadata": {},
   "outputs": [
    {
     "data": {
      "text/html": [
       "<div>\n",
       "<style scoped>\n",
       "    .dataframe tbody tr th:only-of-type {\n",
       "        vertical-align: middle;\n",
       "    }\n",
       "\n",
       "    .dataframe tbody tr th {\n",
       "        vertical-align: top;\n",
       "    }\n",
       "\n",
       "    .dataframe thead th {\n",
       "        text-align: right;\n",
       "    }\n",
       "</style>\n",
       "<table border=\"1\" class=\"dataframe\">\n",
       "  <thead>\n",
       "    <tr style=\"text-align: right;\">\n",
       "      <th></th>\n",
       "      <th>time_stamp</th>\n",
       "      <th>user_id</th>\n",
       "      <th>visited</th>\n",
       "      <th>creation_time</th>\n",
       "      <th>name</th>\n",
       "      <th>email</th>\n",
       "      <th>creation_source</th>\n",
       "      <th>last_session_creation_time</th>\n",
       "      <th>opted_in_to_mailing_list</th>\n",
       "      <th>enabled_for_marketing_drip</th>\n",
       "      <th>org_id</th>\n",
       "      <th>invited_by_user_id</th>\n",
       "      <th>time_diff</th>\n",
       "      <th>adopted_user</th>\n",
       "    </tr>\n",
       "  </thead>\n",
       "  <tbody>\n",
       "    <tr>\n",
       "      <th>0</th>\n",
       "      <td>2014-04-22 03:53:30</td>\n",
       "      <td>1</td>\n",
       "      <td>1</td>\n",
       "      <td>2014-04-22 03:53:30</td>\n",
       "      <td>Clausen August</td>\n",
       "      <td>AugustCClausen@yahoo.com</td>\n",
       "      <td>GUEST_INVITE</td>\n",
       "      <td>1970-01-01 00:00:01.398138810</td>\n",
       "      <td>1</td>\n",
       "      <td>0</td>\n",
       "      <td>11</td>\n",
       "      <td>10803.0</td>\n",
       "      <td>NaT</td>\n",
       "      <td>0</td>\n",
       "    </tr>\n",
       "    <tr>\n",
       "      <th>1</th>\n",
       "      <td>2013-11-15 03:45:04</td>\n",
       "      <td>2</td>\n",
       "      <td>1</td>\n",
       "      <td>2013-11-15 03:45:04</td>\n",
       "      <td>Poole Matthew</td>\n",
       "      <td>MatthewPoole@gustr.com</td>\n",
       "      <td>ORG_INVITE</td>\n",
       "      <td>1970-01-01 00:00:01.396237504</td>\n",
       "      <td>0</td>\n",
       "      <td>0</td>\n",
       "      <td>1</td>\n",
       "      <td>316.0</td>\n",
       "      <td>NaT</td>\n",
       "      <td>1</td>\n",
       "    </tr>\n",
       "    <tr>\n",
       "      <th>2</th>\n",
       "      <td>2013-11-29 03:45:04</td>\n",
       "      <td>2</td>\n",
       "      <td>1</td>\n",
       "      <td>2013-11-15 03:45:04</td>\n",
       "      <td>Poole Matthew</td>\n",
       "      <td>MatthewPoole@gustr.com</td>\n",
       "      <td>ORG_INVITE</td>\n",
       "      <td>1970-01-01 00:00:01.396237504</td>\n",
       "      <td>0</td>\n",
       "      <td>0</td>\n",
       "      <td>1</td>\n",
       "      <td>316.0</td>\n",
       "      <td>14 days</td>\n",
       "      <td>1</td>\n",
       "    </tr>\n",
       "    <tr>\n",
       "      <th>3</th>\n",
       "      <td>2013-12-09 03:45:04</td>\n",
       "      <td>2</td>\n",
       "      <td>1</td>\n",
       "      <td>2013-11-15 03:45:04</td>\n",
       "      <td>Poole Matthew</td>\n",
       "      <td>MatthewPoole@gustr.com</td>\n",
       "      <td>ORG_INVITE</td>\n",
       "      <td>1970-01-01 00:00:01.396237504</td>\n",
       "      <td>0</td>\n",
       "      <td>0</td>\n",
       "      <td>1</td>\n",
       "      <td>316.0</td>\n",
       "      <td>10 days</td>\n",
       "      <td>1</td>\n",
       "    </tr>\n",
       "    <tr>\n",
       "      <th>4</th>\n",
       "      <td>2013-12-25 03:45:04</td>\n",
       "      <td>2</td>\n",
       "      <td>1</td>\n",
       "      <td>2013-11-15 03:45:04</td>\n",
       "      <td>Poole Matthew</td>\n",
       "      <td>MatthewPoole@gustr.com</td>\n",
       "      <td>ORG_INVITE</td>\n",
       "      <td>1970-01-01 00:00:01.396237504</td>\n",
       "      <td>0</td>\n",
       "      <td>0</td>\n",
       "      <td>1</td>\n",
       "      <td>316.0</td>\n",
       "      <td>16 days</td>\n",
       "      <td>1</td>\n",
       "    </tr>\n",
       "    <tr>\n",
       "      <th>5</th>\n",
       "      <td>2013-12-31 03:45:04</td>\n",
       "      <td>2</td>\n",
       "      <td>1</td>\n",
       "      <td>2013-11-15 03:45:04</td>\n",
       "      <td>Poole Matthew</td>\n",
       "      <td>MatthewPoole@gustr.com</td>\n",
       "      <td>ORG_INVITE</td>\n",
       "      <td>1970-01-01 00:00:01.396237504</td>\n",
       "      <td>0</td>\n",
       "      <td>0</td>\n",
       "      <td>1</td>\n",
       "      <td>316.0</td>\n",
       "      <td>6 days</td>\n",
       "      <td>1</td>\n",
       "    </tr>\n",
       "    <tr>\n",
       "      <th>6</th>\n",
       "      <td>2014-01-08 03:45:04</td>\n",
       "      <td>2</td>\n",
       "      <td>1</td>\n",
       "      <td>2013-11-15 03:45:04</td>\n",
       "      <td>Poole Matthew</td>\n",
       "      <td>MatthewPoole@gustr.com</td>\n",
       "      <td>ORG_INVITE</td>\n",
       "      <td>1970-01-01 00:00:01.396237504</td>\n",
       "      <td>0</td>\n",
       "      <td>0</td>\n",
       "      <td>1</td>\n",
       "      <td>316.0</td>\n",
       "      <td>8 days</td>\n",
       "      <td>1</td>\n",
       "    </tr>\n",
       "    <tr>\n",
       "      <th>7</th>\n",
       "      <td>2014-02-03 03:45:04</td>\n",
       "      <td>2</td>\n",
       "      <td>1</td>\n",
       "      <td>2013-11-15 03:45:04</td>\n",
       "      <td>Poole Matthew</td>\n",
       "      <td>MatthewPoole@gustr.com</td>\n",
       "      <td>ORG_INVITE</td>\n",
       "      <td>1970-01-01 00:00:01.396237504</td>\n",
       "      <td>0</td>\n",
       "      <td>0</td>\n",
       "      <td>1</td>\n",
       "      <td>316.0</td>\n",
       "      <td>26 days</td>\n",
       "      <td>1</td>\n",
       "    </tr>\n",
       "    <tr>\n",
       "      <th>8</th>\n",
       "      <td>2014-02-08 03:45:04</td>\n",
       "      <td>2</td>\n",
       "      <td>1</td>\n",
       "      <td>2013-11-15 03:45:04</td>\n",
       "      <td>Poole Matthew</td>\n",
       "      <td>MatthewPoole@gustr.com</td>\n",
       "      <td>ORG_INVITE</td>\n",
       "      <td>1970-01-01 00:00:01.396237504</td>\n",
       "      <td>0</td>\n",
       "      <td>0</td>\n",
       "      <td>1</td>\n",
       "      <td>316.0</td>\n",
       "      <td>5 days</td>\n",
       "      <td>1</td>\n",
       "    </tr>\n",
       "    <tr>\n",
       "      <th>9</th>\n",
       "      <td>2014-02-09 03:45:04</td>\n",
       "      <td>2</td>\n",
       "      <td>1</td>\n",
       "      <td>2013-11-15 03:45:04</td>\n",
       "      <td>Poole Matthew</td>\n",
       "      <td>MatthewPoole@gustr.com</td>\n",
       "      <td>ORG_INVITE</td>\n",
       "      <td>1970-01-01 00:00:01.396237504</td>\n",
       "      <td>0</td>\n",
       "      <td>0</td>\n",
       "      <td>1</td>\n",
       "      <td>316.0</td>\n",
       "      <td>1 days</td>\n",
       "      <td>1</td>\n",
       "    </tr>\n",
       "    <tr>\n",
       "      <th>10</th>\n",
       "      <td>2014-02-13 03:45:04</td>\n",
       "      <td>2</td>\n",
       "      <td>1</td>\n",
       "      <td>2013-11-15 03:45:04</td>\n",
       "      <td>Poole Matthew</td>\n",
       "      <td>MatthewPoole@gustr.com</td>\n",
       "      <td>ORG_INVITE</td>\n",
       "      <td>1970-01-01 00:00:01.396237504</td>\n",
       "      <td>0</td>\n",
       "      <td>0</td>\n",
       "      <td>1</td>\n",
       "      <td>316.0</td>\n",
       "      <td>4 days</td>\n",
       "      <td>1</td>\n",
       "    </tr>\n",
       "    <tr>\n",
       "      <th>11</th>\n",
       "      <td>2014-02-16 03:45:04</td>\n",
       "      <td>2</td>\n",
       "      <td>1</td>\n",
       "      <td>2013-11-15 03:45:04</td>\n",
       "      <td>Poole Matthew</td>\n",
       "      <td>MatthewPoole@gustr.com</td>\n",
       "      <td>ORG_INVITE</td>\n",
       "      <td>1970-01-01 00:00:01.396237504</td>\n",
       "      <td>0</td>\n",
       "      <td>0</td>\n",
       "      <td>1</td>\n",
       "      <td>316.0</td>\n",
       "      <td>3 days</td>\n",
       "      <td>1</td>\n",
       "    </tr>\n",
       "    <tr>\n",
       "      <th>12</th>\n",
       "      <td>2014-03-09 03:45:04</td>\n",
       "      <td>2</td>\n",
       "      <td>1</td>\n",
       "      <td>2013-11-15 03:45:04</td>\n",
       "      <td>Poole Matthew</td>\n",
       "      <td>MatthewPoole@gustr.com</td>\n",
       "      <td>ORG_INVITE</td>\n",
       "      <td>1970-01-01 00:00:01.396237504</td>\n",
       "      <td>0</td>\n",
       "      <td>0</td>\n",
       "      <td>1</td>\n",
       "      <td>316.0</td>\n",
       "      <td>21 days</td>\n",
       "      <td>1</td>\n",
       "    </tr>\n",
       "    <tr>\n",
       "      <th>13</th>\n",
       "      <td>2014-03-13 03:45:04</td>\n",
       "      <td>2</td>\n",
       "      <td>1</td>\n",
       "      <td>2013-11-15 03:45:04</td>\n",
       "      <td>Poole Matthew</td>\n",
       "      <td>MatthewPoole@gustr.com</td>\n",
       "      <td>ORG_INVITE</td>\n",
       "      <td>1970-01-01 00:00:01.396237504</td>\n",
       "      <td>0</td>\n",
       "      <td>0</td>\n",
       "      <td>1</td>\n",
       "      <td>316.0</td>\n",
       "      <td>4 days</td>\n",
       "      <td>1</td>\n",
       "    </tr>\n",
       "    <tr>\n",
       "      <th>14</th>\n",
       "      <td>2014-03-31 03:45:04</td>\n",
       "      <td>2</td>\n",
       "      <td>1</td>\n",
       "      <td>2013-11-15 03:45:04</td>\n",
       "      <td>Poole Matthew</td>\n",
       "      <td>MatthewPoole@gustr.com</td>\n",
       "      <td>ORG_INVITE</td>\n",
       "      <td>1970-01-01 00:00:01.396237504</td>\n",
       "      <td>0</td>\n",
       "      <td>0</td>\n",
       "      <td>1</td>\n",
       "      <td>316.0</td>\n",
       "      <td>18 days</td>\n",
       "      <td>1</td>\n",
       "    </tr>\n",
       "    <tr>\n",
       "      <th>15</th>\n",
       "      <td>2013-03-19 23:14:52</td>\n",
       "      <td>3</td>\n",
       "      <td>1</td>\n",
       "      <td>2013-03-19 23:14:52</td>\n",
       "      <td>Bottrill Mitchell</td>\n",
       "      <td>MitchellBottrill@gustr.com</td>\n",
       "      <td>ORG_INVITE</td>\n",
       "      <td>1970-01-01 00:00:01.363734892</td>\n",
       "      <td>0</td>\n",
       "      <td>0</td>\n",
       "      <td>94</td>\n",
       "      <td>1525.0</td>\n",
       "      <td>NaT</td>\n",
       "      <td>0</td>\n",
       "    </tr>\n",
       "    <tr>\n",
       "      <th>16</th>\n",
       "      <td>2013-05-22 08:09:28</td>\n",
       "      <td>4</td>\n",
       "      <td>1</td>\n",
       "      <td>2013-05-21 08:09:28</td>\n",
       "      <td>Clausen Nicklas</td>\n",
       "      <td>NicklasSClausen@yahoo.com</td>\n",
       "      <td>GUEST_INVITE</td>\n",
       "      <td>1970-01-01 00:00:01.369210168</td>\n",
       "      <td>0</td>\n",
       "      <td>0</td>\n",
       "      <td>1</td>\n",
       "      <td>5151.0</td>\n",
       "      <td>NaT</td>\n",
       "      <td>0</td>\n",
       "    </tr>\n",
       "    <tr>\n",
       "      <th>17</th>\n",
       "      <td>2013-01-22 10:14:20</td>\n",
       "      <td>5</td>\n",
       "      <td>1</td>\n",
       "      <td>2013-01-17 10:14:20</td>\n",
       "      <td>Raw Grace</td>\n",
       "      <td>GraceRaw@yahoo.com</td>\n",
       "      <td>GUEST_INVITE</td>\n",
       "      <td>1970-01-01 00:00:01.358849660</td>\n",
       "      <td>0</td>\n",
       "      <td>0</td>\n",
       "      <td>193</td>\n",
       "      <td>5240.0</td>\n",
       "      <td>NaT</td>\n",
       "      <td>0</td>\n",
       "    </tr>\n",
       "    <tr>\n",
       "      <th>18</th>\n",
       "      <td>2013-12-19 03:37:06</td>\n",
       "      <td>6</td>\n",
       "      <td>1</td>\n",
       "      <td>2013-12-17 03:37:06</td>\n",
       "      <td>Cunha Eduardo</td>\n",
       "      <td>EduardoPereiraCunha@yahoo.com</td>\n",
       "      <td>GUEST_INVITE</td>\n",
       "      <td>1970-01-01 00:00:01.387424226</td>\n",
       "      <td>0</td>\n",
       "      <td>0</td>\n",
       "      <td>197</td>\n",
       "      <td>11241.0</td>\n",
       "      <td>NaT</td>\n",
       "      <td>0</td>\n",
       "    </tr>\n",
       "    <tr>\n",
       "      <th>19</th>\n",
       "      <td>2012-12-20 13:24:32</td>\n",
       "      <td>7</td>\n",
       "      <td>1</td>\n",
       "      <td>2012-12-16 13:24:32</td>\n",
       "      <td>Sewell Tyler</td>\n",
       "      <td>TylerSewell@jourrapide.com</td>\n",
       "      <td>SIGNUP</td>\n",
       "      <td>1970-01-01 00:00:01.356009872</td>\n",
       "      <td>0</td>\n",
       "      <td>1</td>\n",
       "      <td>37</td>\n",
       "      <td>NaN</td>\n",
       "      <td>NaT</td>\n",
       "      <td>0</td>\n",
       "    </tr>\n",
       "  </tbody>\n",
       "</table>\n",
       "</div>"
      ],
      "text/plain": [
       "            time_stamp  user_id  visited       creation_time  \\\n",
       "0  2014-04-22 03:53:30        1        1 2014-04-22 03:53:30   \n",
       "1  2013-11-15 03:45:04        2        1 2013-11-15 03:45:04   \n",
       "2  2013-11-29 03:45:04        2        1 2013-11-15 03:45:04   \n",
       "3  2013-12-09 03:45:04        2        1 2013-11-15 03:45:04   \n",
       "4  2013-12-25 03:45:04        2        1 2013-11-15 03:45:04   \n",
       "5  2013-12-31 03:45:04        2        1 2013-11-15 03:45:04   \n",
       "6  2014-01-08 03:45:04        2        1 2013-11-15 03:45:04   \n",
       "7  2014-02-03 03:45:04        2        1 2013-11-15 03:45:04   \n",
       "8  2014-02-08 03:45:04        2        1 2013-11-15 03:45:04   \n",
       "9  2014-02-09 03:45:04        2        1 2013-11-15 03:45:04   \n",
       "10 2014-02-13 03:45:04        2        1 2013-11-15 03:45:04   \n",
       "11 2014-02-16 03:45:04        2        1 2013-11-15 03:45:04   \n",
       "12 2014-03-09 03:45:04        2        1 2013-11-15 03:45:04   \n",
       "13 2014-03-13 03:45:04        2        1 2013-11-15 03:45:04   \n",
       "14 2014-03-31 03:45:04        2        1 2013-11-15 03:45:04   \n",
       "15 2013-03-19 23:14:52        3        1 2013-03-19 23:14:52   \n",
       "16 2013-05-22 08:09:28        4        1 2013-05-21 08:09:28   \n",
       "17 2013-01-22 10:14:20        5        1 2013-01-17 10:14:20   \n",
       "18 2013-12-19 03:37:06        6        1 2013-12-17 03:37:06   \n",
       "19 2012-12-20 13:24:32        7        1 2012-12-16 13:24:32   \n",
       "\n",
       "                 name                          email creation_source  \\\n",
       "0      Clausen August       AugustCClausen@yahoo.com    GUEST_INVITE   \n",
       "1       Poole Matthew         MatthewPoole@gustr.com      ORG_INVITE   \n",
       "2       Poole Matthew         MatthewPoole@gustr.com      ORG_INVITE   \n",
       "3       Poole Matthew         MatthewPoole@gustr.com      ORG_INVITE   \n",
       "4       Poole Matthew         MatthewPoole@gustr.com      ORG_INVITE   \n",
       "5       Poole Matthew         MatthewPoole@gustr.com      ORG_INVITE   \n",
       "6       Poole Matthew         MatthewPoole@gustr.com      ORG_INVITE   \n",
       "7       Poole Matthew         MatthewPoole@gustr.com      ORG_INVITE   \n",
       "8       Poole Matthew         MatthewPoole@gustr.com      ORG_INVITE   \n",
       "9       Poole Matthew         MatthewPoole@gustr.com      ORG_INVITE   \n",
       "10      Poole Matthew         MatthewPoole@gustr.com      ORG_INVITE   \n",
       "11      Poole Matthew         MatthewPoole@gustr.com      ORG_INVITE   \n",
       "12      Poole Matthew         MatthewPoole@gustr.com      ORG_INVITE   \n",
       "13      Poole Matthew         MatthewPoole@gustr.com      ORG_INVITE   \n",
       "14      Poole Matthew         MatthewPoole@gustr.com      ORG_INVITE   \n",
       "15  Bottrill Mitchell     MitchellBottrill@gustr.com      ORG_INVITE   \n",
       "16    Clausen Nicklas      NicklasSClausen@yahoo.com    GUEST_INVITE   \n",
       "17          Raw Grace             GraceRaw@yahoo.com    GUEST_INVITE   \n",
       "18      Cunha Eduardo  EduardoPereiraCunha@yahoo.com    GUEST_INVITE   \n",
       "19       Sewell Tyler     TylerSewell@jourrapide.com          SIGNUP   \n",
       "\n",
       "      last_session_creation_time  opted_in_to_mailing_list  \\\n",
       "0  1970-01-01 00:00:01.398138810                         1   \n",
       "1  1970-01-01 00:00:01.396237504                         0   \n",
       "2  1970-01-01 00:00:01.396237504                         0   \n",
       "3  1970-01-01 00:00:01.396237504                         0   \n",
       "4  1970-01-01 00:00:01.396237504                         0   \n",
       "5  1970-01-01 00:00:01.396237504                         0   \n",
       "6  1970-01-01 00:00:01.396237504                         0   \n",
       "7  1970-01-01 00:00:01.396237504                         0   \n",
       "8  1970-01-01 00:00:01.396237504                         0   \n",
       "9  1970-01-01 00:00:01.396237504                         0   \n",
       "10 1970-01-01 00:00:01.396237504                         0   \n",
       "11 1970-01-01 00:00:01.396237504                         0   \n",
       "12 1970-01-01 00:00:01.396237504                         0   \n",
       "13 1970-01-01 00:00:01.396237504                         0   \n",
       "14 1970-01-01 00:00:01.396237504                         0   \n",
       "15 1970-01-01 00:00:01.363734892                         0   \n",
       "16 1970-01-01 00:00:01.369210168                         0   \n",
       "17 1970-01-01 00:00:01.358849660                         0   \n",
       "18 1970-01-01 00:00:01.387424226                         0   \n",
       "19 1970-01-01 00:00:01.356009872                         0   \n",
       "\n",
       "    enabled_for_marketing_drip  org_id  invited_by_user_id time_diff  \\\n",
       "0                            0      11             10803.0       NaT   \n",
       "1                            0       1               316.0       NaT   \n",
       "2                            0       1               316.0   14 days   \n",
       "3                            0       1               316.0   10 days   \n",
       "4                            0       1               316.0   16 days   \n",
       "5                            0       1               316.0    6 days   \n",
       "6                            0       1               316.0    8 days   \n",
       "7                            0       1               316.0   26 days   \n",
       "8                            0       1               316.0    5 days   \n",
       "9                            0       1               316.0    1 days   \n",
       "10                           0       1               316.0    4 days   \n",
       "11                           0       1               316.0    3 days   \n",
       "12                           0       1               316.0   21 days   \n",
       "13                           0       1               316.0    4 days   \n",
       "14                           0       1               316.0   18 days   \n",
       "15                           0      94              1525.0       NaT   \n",
       "16                           0       1              5151.0       NaT   \n",
       "17                           0     193              5240.0       NaT   \n",
       "18                           0     197             11241.0       NaT   \n",
       "19                           1      37                 NaN       NaT   \n",
       "\n",
       "    adopted_user  \n",
       "0              0  \n",
       "1              1  \n",
       "2              1  \n",
       "3              1  \n",
       "4              1  \n",
       "5              1  \n",
       "6              1  \n",
       "7              1  \n",
       "8              1  \n",
       "9              1  \n",
       "10             1  \n",
       "11             1  \n",
       "12             1  \n",
       "13             1  \n",
       "14             1  \n",
       "15             0  \n",
       "16             0  \n",
       "17             0  \n",
       "18             0  \n",
       "19             0  "
      ]
     },
     "execution_count": 8,
     "metadata": {},
     "output_type": "execute_result"
    }
   ],
   "source": [
    "df.head(20)"
   ]
  },
  {
   "cell_type": "code",
   "execution_count": 9,
   "id": "8cc86dd2",
   "metadata": {},
   "outputs": [
    {
     "data": {
      "text/html": [
       "<div>\n",
       "<style scoped>\n",
       "    .dataframe tbody tr th:only-of-type {\n",
       "        vertical-align: middle;\n",
       "    }\n",
       "\n",
       "    .dataframe tbody tr th {\n",
       "        vertical-align: top;\n",
       "    }\n",
       "\n",
       "    .dataframe thead th {\n",
       "        text-align: right;\n",
       "    }\n",
       "</style>\n",
       "<table border=\"1\" class=\"dataframe\">\n",
       "  <thead>\n",
       "    <tr style=\"text-align: right;\">\n",
       "      <th></th>\n",
       "      <th>user_id</th>\n",
       "      <th>visited</th>\n",
       "      <th>opted_in_to_mailing_list</th>\n",
       "      <th>enabled_for_marketing_drip</th>\n",
       "      <th>org_id</th>\n",
       "      <th>invited_by_user_id</th>\n",
       "      <th>time_diff</th>\n",
       "      <th>adopted_user</th>\n",
       "    </tr>\n",
       "  </thead>\n",
       "  <tbody>\n",
       "    <tr>\n",
       "      <th>count</th>\n",
       "      <td>207917.000000</td>\n",
       "      <td>207917.0</td>\n",
       "      <td>207917.000000</td>\n",
       "      <td>207917.000000</td>\n",
       "      <td>207917.000000</td>\n",
       "      <td>116887.000000</td>\n",
       "      <td>199094</td>\n",
       "      <td>207917.000000</td>\n",
       "    </tr>\n",
       "    <tr>\n",
       "      <th>mean</th>\n",
       "      <td>5913.314197</td>\n",
       "      <td>1.0</td>\n",
       "      <td>0.258137</td>\n",
       "      <td>0.154533</td>\n",
       "      <td>164.315895</td>\n",
       "      <td>5972.167555</td>\n",
       "      <td>2 days 13:55:18.717791595</td>\n",
       "      <td>0.951115</td>\n",
       "    </tr>\n",
       "    <tr>\n",
       "      <th>std</th>\n",
       "      <td>3394.941674</td>\n",
       "      <td>0.0</td>\n",
       "      <td>0.437611</td>\n",
       "      <td>0.361460</td>\n",
       "      <td>121.165846</td>\n",
       "      <td>3247.095621</td>\n",
       "      <td>4 days 00:34:02.123318669</td>\n",
       "      <td>0.215628</td>\n",
       "    </tr>\n",
       "    <tr>\n",
       "      <th>min</th>\n",
       "      <td>1.000000</td>\n",
       "      <td>1.0</td>\n",
       "      <td>0.000000</td>\n",
       "      <td>0.000000</td>\n",
       "      <td>0.000000</td>\n",
       "      <td>3.000000</td>\n",
       "      <td>1 days 00:00:00</td>\n",
       "      <td>0.000000</td>\n",
       "    </tr>\n",
       "    <tr>\n",
       "      <th>25%</th>\n",
       "      <td>3087.000000</td>\n",
       "      <td>1.0</td>\n",
       "      <td>0.000000</td>\n",
       "      <td>0.000000</td>\n",
       "      <td>60.000000</td>\n",
       "      <td>3269.000000</td>\n",
       "      <td>1 days 00:00:00</td>\n",
       "      <td>1.000000</td>\n",
       "    </tr>\n",
       "    <tr>\n",
       "      <th>50%</th>\n",
       "      <td>5682.000000</td>\n",
       "      <td>1.0</td>\n",
       "      <td>0.000000</td>\n",
       "      <td>0.000000</td>\n",
       "      <td>145.000000</td>\n",
       "      <td>5972.000000</td>\n",
       "      <td>1 days 00:00:00</td>\n",
       "      <td>1.000000</td>\n",
       "    </tr>\n",
       "    <tr>\n",
       "      <th>75%</th>\n",
       "      <td>8944.000000</td>\n",
       "      <td>1.0</td>\n",
       "      <td>1.000000</td>\n",
       "      <td>0.000000</td>\n",
       "      <td>260.000000</td>\n",
       "      <td>8513.000000</td>\n",
       "      <td>2 days 00:00:00</td>\n",
       "      <td>1.000000</td>\n",
       "    </tr>\n",
       "    <tr>\n",
       "      <th>max</th>\n",
       "      <td>12000.000000</td>\n",
       "      <td>1.0</td>\n",
       "      <td>1.000000</td>\n",
       "      <td>1.000000</td>\n",
       "      <td>416.000000</td>\n",
       "      <td>11999.000000</td>\n",
       "      <td>115 days 00:00:00</td>\n",
       "      <td>1.000000</td>\n",
       "    </tr>\n",
       "  </tbody>\n",
       "</table>\n",
       "</div>"
      ],
      "text/plain": [
       "             user_id   visited  opted_in_to_mailing_list  \\\n",
       "count  207917.000000  207917.0             207917.000000   \n",
       "mean     5913.314197       1.0                  0.258137   \n",
       "std      3394.941674       0.0                  0.437611   \n",
       "min         1.000000       1.0                  0.000000   \n",
       "25%      3087.000000       1.0                  0.000000   \n",
       "50%      5682.000000       1.0                  0.000000   \n",
       "75%      8944.000000       1.0                  1.000000   \n",
       "max     12000.000000       1.0                  1.000000   \n",
       "\n",
       "       enabled_for_marketing_drip         org_id  invited_by_user_id  \\\n",
       "count               207917.000000  207917.000000       116887.000000   \n",
       "mean                     0.154533     164.315895         5972.167555   \n",
       "std                      0.361460     121.165846         3247.095621   \n",
       "min                      0.000000       0.000000            3.000000   \n",
       "25%                      0.000000      60.000000         3269.000000   \n",
       "50%                      0.000000     145.000000         5972.000000   \n",
       "75%                      0.000000     260.000000         8513.000000   \n",
       "max                      1.000000     416.000000        11999.000000   \n",
       "\n",
       "                       time_diff   adopted_user  \n",
       "count                     199094  207917.000000  \n",
       "mean   2 days 13:55:18.717791595       0.951115  \n",
       "std    4 days 00:34:02.123318669       0.215628  \n",
       "min              1 days 00:00:00       0.000000  \n",
       "25%              1 days 00:00:00       1.000000  \n",
       "50%              1 days 00:00:00       1.000000  \n",
       "75%              2 days 00:00:00       1.000000  \n",
       "max            115 days 00:00:00       1.000000  "
      ]
     },
     "execution_count": 9,
     "metadata": {},
     "output_type": "execute_result"
    }
   ],
   "source": [
    "df.describe()"
   ]
  },
  {
   "cell_type": "code",
   "execution_count": 10,
   "id": "cc6344d3",
   "metadata": {},
   "outputs": [
    {
     "name": "stdout",
     "output_type": "stream",
     "text": [
      "Columns with NaN values:\n",
      "invited_by_user_id    91030\n",
      "time_diff              8823\n",
      "dtype: int64\n"
     ]
    }
   ],
   "source": [
    "# Check for NaN values in the entire DataFrame\n",
    "nan_counts = df.isna().sum()\n",
    "\n",
    "# Filter columns with NaN values\n",
    "columns_with_nan = nan_counts[nan_counts > 0]\n",
    "\n",
    "# Display columns with NaN values and their respective counts\n",
    "print(\"Columns with NaN values:\")\n",
    "print(columns_with_nan)\n"
   ]
  },
  {
   "cell_type": "markdown",
   "id": "0a4a5118",
   "metadata": {},
   "source": [
    "After the above results, I looked at the raw data a little more in depth. I was able to discover that we need to drop duplicate information from users. Next, I was also able to see that the first instance of time_diff was showing as NaN. Once we understand whether a user is adopted user or not, that information is no longer needed, so we are able to drop the column. Lastly, we will explore where are the non invited users coming from, if they are organic and not invited by another user, we could simply make it 0 and understand that those users did not get an invite. "
   ]
  },
  {
   "cell_type": "code",
   "execution_count": 11,
   "id": "d991645d",
   "metadata": {},
   "outputs": [],
   "source": [
    "# Remove duplicate rows based on the 'user_id' column, keeping the last instance\n",
    "df = df.drop_duplicates(subset='user_id', keep='last')\n",
    "\n",
    "# Reset the index of the DataFrame after removing duplicates\n",
    "df = df.reset_index(drop=True)"
   ]
  },
  {
   "cell_type": "code",
   "execution_count": 12,
   "id": "f412b32e",
   "metadata": {},
   "outputs": [],
   "source": [
    "# Remove the 'time_diff' column\n",
    "df = df.drop('time_diff', axis=1)"
   ]
  },
  {
   "cell_type": "code",
   "execution_count": 13,
   "id": "8b922dbe",
   "metadata": {},
   "outputs": [
    {
     "data": {
      "text/plain": [
       "array([1], dtype=int64)"
      ]
     },
     "execution_count": 13,
     "metadata": {},
     "output_type": "execute_result"
    }
   ],
   "source": [
    "df.visited.unique()"
   ]
  },
  {
   "cell_type": "code",
   "execution_count": 14,
   "id": "c7740f2d",
   "metadata": {},
   "outputs": [],
   "source": [
    "# Drop the 'visited' column as it seems to not include any real information. \n",
    "df.drop('visited', axis=1, inplace=True)"
   ]
  },
  {
   "cell_type": "code",
   "execution_count": 15,
   "id": "33ecea84",
   "metadata": {},
   "outputs": [
    {
     "name": "stdout",
     "output_type": "stream",
     "text": [
      "Distribution of 'creation_source' in rows with missing 'invited_by_user_id':\n",
      "SIGNUP                1898\n",
      "SIGNUP_GOOGLE_AUTH    1385\n",
      "PERSONAL_PROJECTS      764\n",
      "Name: creation_source, dtype: int64\n"
     ]
    }
   ],
   "source": [
    "# Filter rows where 'invited_by_user_id' is missing (NaN)\n",
    "nan_rows = df[df['invited_by_user_id'].isna()]\n",
    "\n",
    "# Count the occurrences of each 'creation_source' value in these rows\n",
    "creation_source_counts = nan_rows['creation_source'].value_counts()\n",
    "\n",
    "# Display the distribution of 'creation_source' in rows with missing 'invited_by_user_id'\n",
    "print(\"Distribution of 'creation_source' in rows with missing 'invited_by_user_id':\")\n",
    "print(creation_source_counts)\n"
   ]
  },
  {
   "cell_type": "code",
   "execution_count": 16,
   "id": "f0d4a5d6",
   "metadata": {},
   "outputs": [
    {
     "name": "stdout",
     "output_type": "stream",
     "text": [
      "There are no rows with 'invited_by_user_id' equal to 0.\n"
     ]
    }
   ],
   "source": [
    "# Check if there are any rows with 'invited_by_user_id' equal to 0\n",
    "has_invited_by_user_id_zero = (df['invited_by_user_id'] == 0).any()\n",
    "\n",
    "# Print the result\n",
    "if has_invited_by_user_id_zero:\n",
    "    print(\"There are rows with 'invited_by_user_id' equal to 0.\")\n",
    "else:\n",
    "    print(\"There are no rows with 'invited_by_user_id' equal to 0.\")\n"
   ]
  },
  {
   "cell_type": "code",
   "execution_count": 17,
   "id": "5feaed1a",
   "metadata": {},
   "outputs": [],
   "source": [
    "# Replace NaN values in 'invited_by_user_id' with 0\n",
    "df['invited_by_user_id'].fillna(0, inplace=True)\n"
   ]
  },
  {
   "cell_type": "code",
   "execution_count": 18,
   "id": "9b41d842",
   "metadata": {},
   "outputs": [
    {
     "data": {
      "image/png": "[encoded data removed]",
      "text/plain": [
       "<Figure size 576x432 with 1 Axes>"
      ]
     },
     "metadata": {
      "needs_background": "light"
     },
     "output_type": "display_data"
    }
   ],
   "source": [
    "# Count of Adopted Users\n",
    "plt.figure(figsize=(8, 6))\n",
    "sns.countplot(x='adopted_user', data=df)\n",
    "plt.title(\"Count of Adopted Users\")\n",
    "plt.xlabel(\"Adopted User\")\n",
    "plt.ylabel(\"Count\")\n",
    "plt.show()"
   ]
  },
  {
   "cell_type": "code",
   "execution_count": 19,
   "id": "6dc1b56e",
   "metadata": {},
   "outputs": [
    {
     "data": {
      "image/png": "[encoded data removed]",
      "text/plain": [
       "<Figure size 432x432 with 1 Axes>"
      ]
     },
     "metadata": {},
     "output_type": "display_data"
    },
    {
     "name": "stdout",
     "output_type": "stream",
     "text": [
      "Overall Percentage of Adopted Users: 17.83%\n"
     ]
    }
   ],
   "source": [
    "# Calculate the overall percentage of adopted users\n",
    "overall_percentage_adopted = (df['adopted_user'].sum() / len(df)) * 100\n",
    "\n",
    "# Create a pie chart to visualize the overall adoption rate\n",
    "plt.figure(figsize=(6, 6))\n",
    "plt.pie([overall_percentage_adopted, 100 - overall_percentage_adopted], labels=['Adopted Users', 'Non-Adopted Users'],\n",
    "        autopct='%1.1f%%', colors=['skyblue', 'lightcoral'])\n",
    "plt.title(\"Overall Adoption Rate\")\n",
    "plt.show()\n",
    "\n",
    "# Display the calculated overall percentage\n",
    "print(f\"Overall Percentage of Adopted Users: {overall_percentage_adopted:.2f}%\")"
   ]
  },
  {
   "cell_type": "code",
   "execution_count": 20,
   "id": "cf7b190f",
   "metadata": {},
   "outputs": [
    {
     "data": {
      "image/png": "[encoded data removed]",
      "text/plain": [
       "<Figure size 720x432 with 1 Axes>"
      ]
     },
     "metadata": {
      "needs_background": "light"
     },
     "output_type": "display_data"
    }
   ],
   "source": [
    "# Categorical Features (e.g., 'creation_source')\n",
    "plt.figure(figsize=(10, 6))\n",
    "sns.countplot(x='creation_source', hue='adopted_user', data=df)\n",
    "plt.title(\"Adoption Rate by Creation Source\")\n",
    "plt.xlabel(\"Creation Source\")\n",
    "plt.ylabel(\"Count\")\n",
    "plt.legend(title=\"Adopted User\", loc='upper right', labels=[\"Not Adopted\", \"Adopted\"])\n",
    "plt.xticks(rotation=45)\n",
    "plt.show()\n"
   ]
  },
  {
   "cell_type": "code",
   "execution_count": 21,
   "id": "53c6548c",
   "metadata": {},
   "outputs": [
    {
     "name": "stdout",
     "output_type": "stream",
     "text": [
      "Intermediate Results:\n",
      "creation_source\n",
      "GUEST_INVITE          22.418136\n",
      "ORG_INVITE            17.063990\n",
      "PERSONAL_PROJECTS     20.680628\n",
      "SIGNUP                15.121180\n",
      "SIGNUP_GOOGLE_AUTH    16.462094\n",
      "Name: adopted_user, dtype: float64\n"
     ]
    },
    {
     "data": {
      "image/png": "[encoded data removed]",
      "text/plain": [
       "<Figure size 720x432 with 1 Axes>"
      ]
     },
     "metadata": {
      "needs_background": "light"
     },
     "output_type": "display_data"
    }
   ],
   "source": [
    "# Let's look at the creation source but in percentages. \n",
    "# Calculate the percentage of adopted users in each 'creation_source' category\n",
    "percentage_adopted_by_creation_source = df.groupby('creation_source')['adopted_user'].mean() * 100\n",
    "\n",
    "# Print intermediate results for debugging\n",
    "print(\"Intermediate Results:\")\n",
    "print(percentage_adopted_by_creation_source)\n",
    "\n",
    "# Sort the values for better visualization\n",
    "percentage_adopted_by_creation_source = percentage_adopted_by_creation_source.sort_values(ascending=False)\n",
    "\n",
    "# Create a bar plot to show the percentage of adopted users by 'creation_source'\n",
    "plt.figure(figsize=(10, 6))\n",
    "sns.barplot(x=percentage_adopted_by_creation_source.index, y=percentage_adopted_by_creation_source.values, palette=\"viridis\")\n",
    "plt.title(\"Percentage of Adopted Users by Creation Source\")\n",
    "plt.xlabel(\"Creation Source\")\n",
    "plt.ylabel(\"Percentage of Adopted Users (%)\")\n",
    "plt.xticks(rotation=45)\n",
    "plt.show()\n"
   ]
  },
  {
   "cell_type": "code",
   "execution_count": 22,
   "id": "31621297",
   "metadata": {},
   "outputs": [
    {
     "data": {
      "image/png": "[encoded data removed]",
      "text/plain": [
       "<Figure size 576x432 with 1 Axes>"
      ]
     },
     "metadata": {
      "needs_background": "light"
     },
     "output_type": "display_data"
    }
   ],
   "source": [
    "# Calculate user account age in days\n",
    "df['account_age_days'] = (datetime.datetime.now() - df['creation_time']).dt.days\n",
    "# Numerical Features (account_age_days)\n",
    "plt.figure(figsize=(8, 6))\n",
    "sns.boxplot(x='adopted_user', y='account_age_days', data=df)\n",
    "plt.title(\"Account Age Distribution by Adopted User\")\n",
    "plt.xlabel(\"Adopted User\")\n",
    "plt.ylabel(\"Account Age (Days)\")\n",
    "plt.xticks([0, 1], [\"Not Adopted\", \"Adopted\"])\n",
    "plt.show()\n"
   ]
  },
  {
   "cell_type": "markdown",
   "id": "0b249b1d",
   "metadata": {},
   "source": [
    "I think this is an important feature we would like to continut to explore later on. \n"
   ]
  },
  {
   "cell_type": "markdown",
   "id": "9e5f34da",
   "metadata": {},
   "source": [
    "From above, we have learn that old accounts tend to have a higher adoption rate. "
   ]
  },
  {
   "cell_type": "code",
   "execution_count": 23,
   "id": "81801a42",
   "metadata": {},
   "outputs": [],
   "source": [
    "# Create separate binary columns for each 'creation_source' category\n",
    "df['PERSONAL_PROJECTS'] = (df['creation_source'] == 'PERSONAL_PROJECTS').astype(int)\n",
    "df['GUEST_INVITE'] = (df['creation_source'] == 'GUEST_INVITE').astype(int)\n",
    "df['ORG_INVITE'] = (df['creation_source'] == 'ORG_INVITE').astype(int)\n",
    "df['SIGNUP'] = (df['creation_source'] == 'SIGNUP').astype(int)\n",
    "df['SIGNUP_GOOGLE_AUTH'] = (df['creation_source'] == 'SIGNUP_GOOGLE_AUTH').astype(int)\n",
    "\n",
    "# Drop the original 'creation_source' column if needed\n",
    "# df.drop('creation_source', axis=1, inplace=True)"
   ]
  },
  {
   "cell_type": "code",
   "execution_count": 24,
   "id": "b218bb4b",
   "metadata": {},
   "outputs": [
    {
     "data": {
      "text/plain": [
       "opted_in_to_mailing_list\n",
       "0    0.176444\n",
       "1    0.183738\n",
       "Name: adopted_user, dtype: float64"
      ]
     },
     "execution_count": 24,
     "metadata": {},
     "output_type": "execute_result"
    }
   ],
   "source": [
    "df.groupby('opted_in_to_mailing_list')['adopted_user'].apply(lambda x: sum(x)/len(x))\n"
   ]
  },
  {
   "cell_type": "markdown",
   "id": "bde49664",
   "metadata": {},
   "source": [
    "Not a big difference in adoption rate if they opted into mailing list. However, if opted in, there is a slight increase in the chance that you will be adopted. "
   ]
  },
  {
   "cell_type": "code",
   "execution_count": 25,
   "id": "d8caa788",
   "metadata": {},
   "outputs": [],
   "source": [
    "df['invited_by_user'] = (df['invited_by_user_id'] != 0).astype(int)\n"
   ]
  },
  {
   "cell_type": "code",
   "execution_count": 26,
   "id": "b129ca1c",
   "metadata": {},
   "outputs": [
    {
     "data": {
      "text/plain": [
       "invited_by_user\n",
       "0    0.166296\n",
       "1    0.188442\n",
       "Name: adopted_user, dtype: float64"
      ]
     },
     "execution_count": 26,
     "metadata": {},
     "output_type": "execute_result"
    }
   ],
   "source": [
    "df.groupby('invited_by_user')['adopted_user'].apply(lambda x: sum(x)/len(x))\n"
   ]
  },
  {
   "cell_type": "markdown",
   "id": "6f9ce529",
   "metadata": {},
   "source": [
    "Not a huge difference in adoption rate if they were invited by other users though a noticeable one. "
   ]
  },
  {
   "cell_type": "code",
   "execution_count": null,
   "id": "65793fdd",
   "metadata": {},
   "outputs": [],
   "source": []
  },
  {
   "cell_type": "code",
   "execution_count": 27,
   "id": "a6972d22",
   "metadata": {},
   "outputs": [
    {
     "data": {
      "image/png": "[encoded data removed]",
      "text/plain": [
       "<Figure size 720x576 with 2 Axes>"
      ]
     },
     "metadata": {
      "needs_background": "light"
     },
     "output_type": "display_data"
    }
   ],
   "source": [
    "# Heatmap\n",
    "numerical_columns = ['adopted_user', 'opted_in_to_mailing_list', 'enabled_for_marketing_drip', 'org_id', 'invited_by_user_id', 'invited_by_user', 'PERSONAL_PROJECTS',  'GUEST_INVITE', 'ORG_INVITE',  'SIGNUP',  'SIGNUP_GOOGLE_AUTH']\n",
    "correlation_matrix = df[numerical_columns].corr()\n",
    "plt.figure(figsize=(10, 8))\n",
    "sns.heatmap(correlation_matrix, annot=True, cmap='coolwarm', fmt=\".2f\", linewidths=0.5)\n",
    "plt.title(\"Correlation Heatmap\")\n",
    "plt.show()\n"
   ]
  },
  {
   "cell_type": "markdown",
   "id": "5c584ff7",
   "metadata": {},
   "source": [
    "Predictive Modeling"
   ]
  },
  {
   "cell_type": "code",
   "execution_count": 28,
   "id": "a510e5bb",
   "metadata": {},
   "outputs": [],
   "source": [
    "# Let's explore the relevance of age of account.\n",
    "df['account_age_days'] = (datetime.datetime.now() - df['creation_time']).dt.days\n",
    "\n",
    "# Drop 'creation_time', 'time_stamp', and 'last_session_creation_time' columns\n",
    "df.drop(['creation_time', 'time_stamp', 'last_session_creation_time'], axis=1, inplace=True)\n",
    "\n",
    "# Drop 'name' and 'email'\n",
    "df.drop(['name', 'email'], axis=1, inplace=True)\n"
   ]
  },
  {
   "cell_type": "code",
   "execution_count": 29,
   "id": "f04c84cf",
   "metadata": {
    "scrolled": true
   },
   "outputs": [
    {
     "data": {
      "text/html": [
       "<div>\n",
       "<style scoped>\n",
       "    .dataframe tbody tr th:only-of-type {\n",
       "        vertical-align: middle;\n",
       "    }\n",
       "\n",
       "    .dataframe tbody tr th {\n",
       "        vertical-align: top;\n",
       "    }\n",
       "\n",
       "    .dataframe thead th {\n",
       "        text-align: right;\n",
       "    }\n",
       "</style>\n",
       "<table border=\"1\" class=\"dataframe\">\n",
       "  <thead>\n",
       "    <tr style=\"text-align: right;\">\n",
       "      <th></th>\n",
       "      <th>user_id</th>\n",
       "      <th>creation_source</th>\n",
       "      <th>opted_in_to_mailing_list</th>\n",
       "      <th>enabled_for_marketing_drip</th>\n",
       "      <th>org_id</th>\n",
       "      <th>invited_by_user_id</th>\n",
       "      <th>adopted_user</th>\n",
       "      <th>account_age_days</th>\n",
       "      <th>PERSONAL_PROJECTS</th>\n",
       "      <th>GUEST_INVITE</th>\n",
       "      <th>ORG_INVITE</th>\n",
       "      <th>SIGNUP</th>\n",
       "      <th>SIGNUP_GOOGLE_AUTH</th>\n",
       "      <th>invited_by_user</th>\n",
       "    </tr>\n",
       "  </thead>\n",
       "  <tbody>\n",
       "    <tr>\n",
       "      <th>0</th>\n",
       "      <td>1</td>\n",
       "      <td>GUEST_INVITE</td>\n",
       "      <td>1</td>\n",
       "      <td>0</td>\n",
       "      <td>11</td>\n",
       "      <td>10803.0</td>\n",
       "      <td>0</td>\n",
       "      <td>3442</td>\n",
       "      <td>0</td>\n",
       "      <td>1</td>\n",
       "      <td>0</td>\n",
       "      <td>0</td>\n",
       "      <td>0</td>\n",
       "      <td>1</td>\n",
       "    </tr>\n",
       "    <tr>\n",
       "      <th>1</th>\n",
       "      <td>2</td>\n",
       "      <td>ORG_INVITE</td>\n",
       "      <td>0</td>\n",
       "      <td>0</td>\n",
       "      <td>1</td>\n",
       "      <td>316.0</td>\n",
       "      <td>1</td>\n",
       "      <td>3600</td>\n",
       "      <td>0</td>\n",
       "      <td>0</td>\n",
       "      <td>1</td>\n",
       "      <td>0</td>\n",
       "      <td>0</td>\n",
       "      <td>1</td>\n",
       "    </tr>\n",
       "    <tr>\n",
       "      <th>2</th>\n",
       "      <td>3</td>\n",
       "      <td>ORG_INVITE</td>\n",
       "      <td>0</td>\n",
       "      <td>0</td>\n",
       "      <td>94</td>\n",
       "      <td>1525.0</td>\n",
       "      <td>0</td>\n",
       "      <td>3840</td>\n",
       "      <td>0</td>\n",
       "      <td>0</td>\n",
       "      <td>1</td>\n",
       "      <td>0</td>\n",
       "      <td>0</td>\n",
       "      <td>1</td>\n",
       "    </tr>\n",
       "    <tr>\n",
       "      <th>3</th>\n",
       "      <td>4</td>\n",
       "      <td>GUEST_INVITE</td>\n",
       "      <td>0</td>\n",
       "      <td>0</td>\n",
       "      <td>1</td>\n",
       "      <td>5151.0</td>\n",
       "      <td>0</td>\n",
       "      <td>3778</td>\n",
       "      <td>0</td>\n",
       "      <td>1</td>\n",
       "      <td>0</td>\n",
       "      <td>0</td>\n",
       "      <td>0</td>\n",
       "      <td>1</td>\n",
       "    </tr>\n",
       "    <tr>\n",
       "      <th>4</th>\n",
       "      <td>5</td>\n",
       "      <td>GUEST_INVITE</td>\n",
       "      <td>0</td>\n",
       "      <td>0</td>\n",
       "      <td>193</td>\n",
       "      <td>5240.0</td>\n",
       "      <td>0</td>\n",
       "      <td>3902</td>\n",
       "      <td>0</td>\n",
       "      <td>1</td>\n",
       "      <td>0</td>\n",
       "      <td>0</td>\n",
       "      <td>0</td>\n",
       "      <td>1</td>\n",
       "    </tr>\n",
       "  </tbody>\n",
       "</table>\n",
       "</div>"
      ],
      "text/plain": [
       "   user_id creation_source  opted_in_to_mailing_list  \\\n",
       "0        1    GUEST_INVITE                         1   \n",
       "1        2      ORG_INVITE                         0   \n",
       "2        3      ORG_INVITE                         0   \n",
       "3        4    GUEST_INVITE                         0   \n",
       "4        5    GUEST_INVITE                         0   \n",
       "\n",
       "   enabled_for_marketing_drip  org_id  invited_by_user_id  adopted_user  \\\n",
       "0                           0      11             10803.0             0   \n",
       "1                           0       1               316.0             1   \n",
       "2                           0      94              1525.0             0   \n",
       "3                           0       1              5151.0             0   \n",
       "4                           0     193              5240.0             0   \n",
       "\n",
       "   account_age_days  PERSONAL_PROJECTS  GUEST_INVITE  ORG_INVITE  SIGNUP  \\\n",
       "0              3442                  0             1           0       0   \n",
       "1              3600                  0             0           1       0   \n",
       "2              3840                  0             0           1       0   \n",
       "3              3778                  0             1           0       0   \n",
       "4              3902                  0             1           0       0   \n",
       "\n",
       "   SIGNUP_GOOGLE_AUTH  invited_by_user  \n",
       "0                   0                1  \n",
       "1                   0                1  \n",
       "2                   0                1  \n",
       "3                   0                1  \n",
       "4                   0                1  "
      ]
     },
     "execution_count": 29,
     "metadata": {},
     "output_type": "execute_result"
    }
   ],
   "source": [
    "df.head()"
   ]
  },
  {
   "cell_type": "code",
   "execution_count": 39,
   "id": "3f5bdd03",
   "metadata": {},
   "outputs": [],
   "source": [
    "from sklearn.model_selection import train_test_split\n",
    "\n",
    "numerical_columns = ['adopted_user', 'opted_in_to_mailing_list', 'enabled_for_marketing_drip', 'org_id', 'invited_by_user', 'account_age_days', 'PERSONAL_PROJECTS',  'GUEST_INVITE', 'ORG_INVITE',  'SIGNUP',  'SIGNUP_GOOGLE_AUTH']\n",
    "\n",
    "# Define your features (X) and target variable (y)\n",
    "X = df[numerical_columns[1:]]  # Features (excluding 'adopted_user')\n",
    "y = df['adopted_user']  # Target variable\n",
    "\n",
    "# Split the data into training and testing sets (e.g., 80% train, 20% test)\n",
    "X_train, X_test, y_train, y_test = train_test_split(X, y, test_size=0.3, random_state=42)\n",
    "\n",
    "# Now you have X_train, X_test, y_train, and y_test ready for model training and evaluation\n"
   ]
  },
  {
   "cell_type": "code",
   "execution_count": 40,
   "id": "a74dad1f",
   "metadata": {},
   "outputs": [],
   "source": [
    "from sklearn.linear_model import LogisticRegression\n",
    "\n",
    "# Initialize the Logistic Regression model\n",
    "model = LogisticRegression(random_state=42)\n"
   ]
  },
  {
   "cell_type": "code",
   "execution_count": 41,
   "id": "fdc1d31f",
   "metadata": {},
   "outputs": [
    {
     "data": {
      "text/html": [
       "<style>#sk-container-id-2 {color: black;background-color: white;}#sk-container-id-2 pre{padding: 0;}#sk-container-id-2 div.sk-toggleable {background-color: white;}#sk-container-id-2 label.sk-toggleable__label {cursor: pointer;display: block;width: 100%;margin-bottom: 0;padding: 0.3em;box-sizing: border-box;text-align: center;}#sk-container-id-2 label.sk-toggleable__label-arrow:before {content: \"▸\";float: left;margin-right: 0.25em;color: #696969;}#sk-container-id-2 label.sk-toggleable__label-arrow:hover:before {color: black;}#sk-container-id-2 div.sk-estimator:hover label.sk-toggleable__label-arrow:before {color: black;}#sk-container-id-2 div.sk-toggleable__content {max-height: 0;max-width: 0;overflow: hidden;text-align: left;background-color: #f0f8ff;}#sk-container-id-2 div.sk-toggleable__content pre {margin: 0.2em;color: black;border-radius: 0.25em;background-color: #f0f8ff;}#sk-container-id-2 input.sk-toggleable__control:checked~div.sk-toggleable__content {max-height: 200px;max-width: 100%;overflow: auto;}#sk-container-id-2 input.sk-toggleable__control:checked~label.sk-toggleable__label-arrow:before {content: \"▾\";}#sk-container-id-2 div.sk-estimator input.sk-toggleable__control:checked~label.sk-toggleable__label {background-color: #d4ebff;}#sk-container-id-2 div.sk-label input.sk-toggleable__control:checked~label.sk-toggleable__label {background-color: #d4ebff;}#sk-container-id-2 input.sk-hidden--visually {border: 0;clip: rect(1px 1px 1px 1px);clip: rect(1px, 1px, 1px, 1px);height: 1px;margin: -1px;overflow: hidden;padding: 0;position: absolute;width: 1px;}#sk-container-id-2 div.sk-estimator {font-family: monospace;background-color: #f0f8ff;border: 1px dotted black;border-radius: 0.25em;box-sizing: border-box;margin-bottom: 0.5em;}#sk-container-id-2 div.sk-estimator:hover {background-color: #d4ebff;}#sk-container-id-2 div.sk-parallel-item::after {content: \"\";width: 100%;border-bottom: 1px solid gray;flex-grow: 1;}#sk-container-id-2 div.sk-label:hover label.sk-toggleable__label {background-color: #d4ebff;}#sk-container-id-2 div.sk-serial::before {content: \"\";position: absolute;border-left: 1px solid gray;box-sizing: border-box;top: 0;bottom: 0;left: 50%;z-index: 0;}#sk-container-id-2 div.sk-serial {display: flex;flex-direction: column;align-items: center;background-color: white;padding-right: 0.2em;padding-left: 0.2em;position: relative;}#sk-container-id-2 div.sk-item {position: relative;z-index: 1;}#sk-container-id-2 div.sk-parallel {display: flex;align-items: stretch;justify-content: center;background-color: white;position: relative;}#sk-container-id-2 div.sk-item::before, #sk-container-id-2 div.sk-parallel-item::before {content: \"\";position: absolute;border-left: 1px solid gray;box-sizing: border-box;top: 0;bottom: 0;left: 50%;z-index: -1;}#sk-container-id-2 div.sk-parallel-item {display: flex;flex-direction: column;z-index: 1;position: relative;background-color: white;}#sk-container-id-2 div.sk-parallel-item:first-child::after {align-self: flex-end;width: 50%;}#sk-container-id-2 div.sk-parallel-item:last-child::after {align-self: flex-start;width: 50%;}#sk-container-id-2 div.sk-parallel-item:only-child::after {width: 0;}#sk-container-id-2 div.sk-dashed-wrapped {border: 1px dashed gray;margin: 0 0.4em 0.5em 0.4em;box-sizing: border-box;padding-bottom: 0.4em;background-color: white;}#sk-container-id-2 div.sk-label label {font-family: monospace;font-weight: bold;display: inline-block;line-height: 1.2em;}#sk-container-id-2 div.sk-label-container {text-align: center;}#sk-container-id-2 div.sk-container {/* jupyter's `normalize.less` sets `[hidden] { display: none; }` but bootstrap.min.css set `[hidden] { display: none !important; }` so we also need the `!important` here to be able to override the default hidden behavior on the sphinx rendered scikit-learn.org. See: https://github.com/scikit-learn/scikit-learn/issues/21755 */display: inline-block !important;position: relative;}#sk-container-id-2 div.sk-text-repr-fallback {display: none;}</style><div id=\"sk-container-id-2\" class=\"sk-top-container\"><div class=\"sk-text-repr-fallback\"><pre>LogisticRegression(random_state=42)</pre><b>In a Jupyter environment, please rerun this cell to show the HTML representation or trust the notebook. <br />On GitHub, the HTML representation is unable to render, please try loading this page with nbviewer.org.</b></div><div class=\"sk-container\" hidden><div class=\"sk-item\"><div class=\"sk-estimator sk-toggleable\"><input class=\"sk-toggleable__control sk-hidden--visually\" id=\"sk-estimator-id-2\" type=\"checkbox\" checked><label for=\"sk-estimator-id-2\" class=\"sk-toggleable__label sk-toggleable__label-arrow\">LogisticRegression</label><div class=\"sk-toggleable__content\"><pre>LogisticRegression(random_state=42)</pre></div></div></div></div></div>"
      ],
      "text/plain": [
       "LogisticRegression(random_state=42)"
      ]
     },
     "execution_count": 41,
     "metadata": {},
     "output_type": "execute_result"
    }
   ],
   "source": [
    "# Train the model on the training data\n",
    "model.fit(X_train, y_train)\n"
   ]
  },
  {
   "cell_type": "code",
   "execution_count": 43,
   "id": "acae3538",
   "metadata": {},
   "outputs": [
    {
     "name": "stdout",
     "output_type": "stream",
     "text": [
      "Accuracy: 0.814884775217227\n",
      "Classification Report:\n",
      "               precision    recall  f1-score   support\n",
      "\n",
      "           0       0.81      1.00      0.90      2157\n",
      "           1       0.00      0.00      0.00       490\n",
      "\n",
      "    accuracy                           0.81      2647\n",
      "   macro avg       0.41      0.50      0.45      2647\n",
      "weighted avg       0.66      0.81      0.73      2647\n",
      "\n"
     ]
    },
    {
     "name": "stderr",
     "output_type": "stream",
     "text": [
      "C:\\Users\\PC\\anaconda3\\lib\\site-packages\\sklearn\\metrics\\_classification.py:1344: UndefinedMetricWarning: Precision and F-score are ill-defined and being set to 0.0 in labels with no predicted samples. Use `zero_division` parameter to control this behavior.\n",
      "  _warn_prf(average, modifier, msg_start, len(result))\n",
      "C:\\Users\\PC\\anaconda3\\lib\\site-packages\\sklearn\\metrics\\_classification.py:1344: UndefinedMetricWarning: Precision and F-score are ill-defined and being set to 0.0 in labels with no predicted samples. Use `zero_division` parameter to control this behavior.\n",
      "  _warn_prf(average, modifier, msg_start, len(result))\n",
      "C:\\Users\\PC\\anaconda3\\lib\\site-packages\\sklearn\\metrics\\_classification.py:1344: UndefinedMetricWarning: Precision and F-score are ill-defined and being set to 0.0 in labels with no predicted samples. Use `zero_division` parameter to control this behavior.\n",
      "  _warn_prf(average, modifier, msg_start, len(result))\n"
     ]
    },
    {
     "data": {
      "image/png": "[encoded data removed]",
      "text/plain": [
       "<Figure size 576x432 with 1 Axes>"
      ]
     },
     "metadata": {
      "needs_background": "light"
     },
     "output_type": "display_data"
    }
   ],
   "source": [
    "from sklearn.metrics import accuracy_score, classification_report, roc_auc_score, roc_curve\n",
    "import matplotlib.pyplot as plt\n",
    "\n",
    "# Predict the target variable on the testing data\n",
    "y_pred = model.predict(X_test)\n",
    "\n",
    "# Calculate accuracy\n",
    "accuracy = accuracy_score(y_test, y_pred)\n",
    "print(\"Accuracy:\", accuracy)\n",
    "\n",
    "# Generate a classification report\n",
    "class_report = classification_report(y_test, y_pred)\n",
    "print(\"Classification Report:\\n\", class_report)\n",
    "\n",
    "# Calculate ROC curve and AUC\n",
    "y_prob = model.predict_proba(X_test)[:, 1]\n",
    "roc_auc = roc_auc_score(y_test, y_prob)\n",
    "\n",
    "# Plot ROC curve\n",
    "fpr, tpr, _ = roc_curve(y_test, y_prob)\n",
    "plt.figure(figsize=(8, 6))\n",
    "plt.plot(fpr, tpr, color='darkorange', lw=2, label=f'ROC curve (AUC = {roc_auc:.2f})')\n",
    "plt.plot([0, 1], [0, 1], color='navy', lw=2, linestyle='--')\n",
    "plt.xlim([0.0, 1.0])\n",
    "plt.ylim([0.0, 1.05])\n",
    "plt.xlabel('False Positive Rate')\n",
    "plt.ylabel('True Positive Rate')\n",
    "plt.title('Receiver Operating Characteristic (ROC) Curve')\n",
    "plt.legend(loc='lower right')\n",
    "plt.show()\n"
   ]
  },
  {
   "cell_type": "markdown",
   "id": "3e1bec35",
   "metadata": {},
   "source": [
    "The accuracy is high, primarily because the model is correctly predicting class 0 (not adopted users) due to the class imbalance. However, it's clear that the model struggles to correctly predict class 1 (adopted users) as indicated by the low precision, recall, and F1-score for class 1. We should try a different model."
   ]
  },
  {
   "cell_type": "code",
   "execution_count": 44,
   "id": "d55fdf6e",
   "metadata": {},
   "outputs": [
    {
     "name": "stdout",
     "output_type": "stream",
     "text": [
      "Random Forest Accuracy: 0.7842840952021156\n",
      "Random Forest Classification Report:\n",
      "               precision    recall  f1-score   support\n",
      "\n",
      "           0       0.82      0.93      0.88      2157\n",
      "           1       0.30      0.12      0.17       490\n",
      "\n",
      "    accuracy                           0.78      2647\n",
      "   macro avg       0.56      0.53      0.52      2647\n",
      "weighted avg       0.73      0.78      0.75      2647\n",
      "\n"
     ]
    }
   ],
   "source": [
    "from sklearn.ensemble import RandomForestClassifier\n",
    "\n",
    "# Initialize the Random Forest Classifier\n",
    "rf_model = RandomForestClassifier(random_state=42)\n",
    "\n",
    "# Train the model on the training data\n",
    "rf_model.fit(X_train, y_train)\n",
    "\n",
    "# Predict the target variable on the testing data\n",
    "rf_y_pred = rf_model.predict(X_test)\n",
    "\n",
    "# Evaluate the model's performance\n",
    "rf_accuracy = accuracy_score(y_test, rf_y_pred)\n",
    "print(\"Random Forest Accuracy:\", rf_accuracy)\n",
    "\n",
    "# Generate a classification report\n",
    "rf_class_report = classification_report(y_test, rf_y_pred)\n",
    "print(\"Random Forest Classification Report:\\n\", rf_class_report)\n"
   ]
  },
  {
   "cell_type": "markdown",
   "id": "3e451f33",
   "metadata": {},
   "source": [
    "Still not a great predicter for adopted users. "
   ]
  },
  {
   "cell_type": "code",
   "execution_count": 45,
   "id": "b662bf27",
   "metadata": {},
   "outputs": [],
   "source": [
    "data = df[['creation_source']]\n",
    "\n",
    "# Initialize the OneHotEncoder\n",
    "encoder = OneHotEncoder(sparse_output=False, drop='first')\n",
    "\n",
    "# Perform one-hot encoding on the 'creation_source' column\n",
    "creation_source_encoded = encoder.fit_transform(data)\n",
    "\n",
    "# Get the category names from the encoder\n",
    "categories = encoder.get_feature_names_out(['creation_source'])\n",
    "\n",
    "# Create a DataFrame with one-hot encoded columns and column names\n",
    "encoded_df = pd.DataFrame(creation_source_encoded, columns=categories)\n",
    "\n",
    "# Now, 'encoded_df' contains the one-hot encoded 'creation_source' values\n"
   ]
  },
  {
   "cell_type": "code",
   "execution_count": 46,
   "id": "92279fd7",
   "metadata": {},
   "outputs": [
    {
     "data": {
      "image/png": "[encoded data removed]",
      "text/plain": [
       "<Figure size 720x432 with 1 Axes>"
      ]
     },
     "metadata": {
      "needs_background": "light"
     },
     "output_type": "display_data"
    }
   ],
   "source": [
    "# Assuming 'X' is your feature matrix and 'y' is your target variable\n",
    "rf_model = RandomForestClassifier(random_state=42)\n",
    "rf_model.fit(X, y)\n",
    "\n",
    "# Get feature importances from the trained Random Forest model\n",
    "feature_importances = rf_model.feature_importances_\n",
    "\n",
    "\n",
    "# Create a DataFrame to associate feature names with their importance scores\n",
    "importance_df = pd.DataFrame({'Feature': X.columns, 'Importance': feature_importances})\n",
    "\n",
    "# Sort the DataFrame by importance score in descending order\n",
    "importance_df = importance_df.sort_values(by='Importance', ascending=False)\n",
    "\n",
    "# Visualize feature importances\n",
    "plt.figure(figsize=(10, 6))\n",
    "plt.barh(importance_df['Feature'], importance_df['Importance'])\n",
    "plt.xlabel('Feature Importance')\n",
    "plt.ylabel('Feature')\n",
    "plt.title('Random Forest Feature Importance')\n",
    "plt.show()\n"
   ]
  },
  {
   "cell_type": "markdown",
   "id": "ba0d8894",
   "metadata": {},
   "source": [
    "From the Random Forest Classifier we are able to see that org_id and account_age_days play a huge part in whether a user will become an adopted user. "
   ]
  },
  {
   "cell_type": "code",
   "execution_count": 47,
   "id": "4911a6b7",
   "metadata": {},
   "outputs": [],
   "source": [
    "# Create dummy variables for the 'creation_source' column\n",
    "creation_source = pd.get_dummies(df['creation_source'], drop_first=True)\n",
    "\n",
    "# Concatenate the dummy variables with the original DataFrame and drop the original 'creation_source' column\n",
    "model_data = pd.concat([df, creation_source], axis=1).drop('creation_source', axis=1)\n",
    "\n",
    "# Define the target variable 'y' and the feature matrix 'X'\n",
    "y = model_data['adopted_user']\n",
    "X = model_data.drop('adopted_user', axis=1)\n",
    "\n",
    "# Split the data into training and testing sets, ensuring stratification\n",
    "Xtrain, Xtest, ytrain, ytest = train_test_split(\n",
    "    X, y, stratify=y, random_state=42)"
   ]
  },
  {
   "cell_type": "code",
   "execution_count": 48,
   "id": "d184f590",
   "metadata": {
    "scrolled": true
   },
   "outputs": [
    {
     "name": "stdout",
     "output_type": "stream",
     "text": [
      "Random Forest Accuracy: 0.80\n",
      "Random Forest Classification Report:\n",
      "               precision    recall  f1-score   support\n",
      "\n",
      "           0       0.82      0.97      0.89      1813\n",
      "           1       0.15      0.02      0.04       393\n",
      "\n",
      "    accuracy                           0.80      2206\n",
      "   macro avg       0.49      0.50      0.47      2206\n",
      "weighted avg       0.70      0.80      0.74      2206\n",
      "\n"
     ]
    }
   ],
   "source": [
    "# Initialize the Random Forest model\n",
    "rf_model = RandomForestClassifier(random_state=42)\n",
    "\n",
    "# Train the model on the training data\n",
    "rf_model.fit(Xtrain, ytrain)\n",
    "\n",
    "# Make predictions on the testing data\n",
    "ypred = rf_model.predict(Xtest)\n",
    "\n",
    "# Evaluate model performance\n",
    "accuracy = accuracy_score(ytest, ypred)\n",
    "classification_rep = classification_report(ytest, ypred)\n",
    "\n",
    "# Print model performance metrics\n",
    "print(f'Random Forest Accuracy: {accuracy:.2f}')\n",
    "print('Random Forest Classification Report:\\n', classification_rep)"
   ]
  },
  {
   "cell_type": "code",
   "execution_count": 49,
   "id": "84d97854",
   "metadata": {},
   "outputs": [
    {
     "name": "stdout",
     "output_type": "stream",
     "text": [
      "Best parameters were {'n_estimators': 200}\n",
      "Best average precision was 0.8163828203318925\n"
     ]
    }
   ],
   "source": [
    "# use random forest model with balanced class weights to correct for imbalance in the data\n",
    "clf = RandomForestClassifier(random_state=42, class_weight='balanced')\n",
    "# use CV to tune number of trees\n",
    "params = {'n_estimators': [10, 50, 100, 200]}\n",
    "model = GridSearchCV(clf, params)\n",
    "model.fit(Xtrain, ytrain)\n",
    "print('Best parameters were', model.best_params_)\n",
    "print('Best average precision was', model.best_score_)"
   ]
  },
  {
   "cell_type": "code",
   "execution_count": 50,
   "id": "b5723621",
   "metadata": {},
   "outputs": [
    {
     "name": "stdout",
     "output_type": "stream",
     "text": [
      "Accuracy of test set was 0.8082502266545785\n",
      "              precision    recall  f1-score   support\n",
      "\n",
      "           0       0.82      0.98      0.89      1813\n",
      "           1       0.22      0.03      0.05       393\n",
      "\n",
      "    accuracy                           0.81      2206\n",
      "   macro avg       0.52      0.50      0.47      2206\n",
      "weighted avg       0.72      0.81      0.74      2206\n",
      "\n"
     ]
    }
   ],
   "source": [
    "# evaluation of the model\n",
    "from sklearn.metrics import classification_report, accuracy_score\n",
    "model = RandomForestClassifier(\n",
    "    random_state=42, class_weight='balanced', n_estimators=200\n",
    ")\n",
    "model.fit(Xtrain, ytrain)\n",
    "ypred = model.predict(Xtest)\n",
    "print('Accuracy of test set was', accuracy_score(ytest, ypred))\n",
    "print(classification_report(ytest, ypred))"
   ]
  },
  {
   "cell_type": "code",
   "execution_count": 51,
   "id": "fd8f63c7",
   "metadata": {},
   "outputs": [
    {
     "name": "stdout",
     "output_type": "stream",
     "text": [
      "account_age_days              0.307960\n",
      "user_id                       0.257103\n",
      "org_id                        0.247336\n",
      "invited_by_user_id            0.126879\n",
      "opted_in_to_mailing_list      0.017585\n",
      "enabled_for_marketing_drip    0.014812\n",
      "GUEST_INVITE                  0.004629\n",
      "ORG_INVITE                    0.003464\n",
      "ORG_INVITE                    0.003237\n",
      "SIGNUP                        0.002669\n",
      "SIGNUP_GOOGLE_AUTH            0.002560\n",
      "SIGNUP                        0.002533\n",
      "SIGNUP_GOOGLE_AUTH            0.002495\n",
      "invited_by_user               0.002374\n",
      "PERSONAL_PROJECTS             0.002244\n",
      "PERSONAL_PROJECTS             0.002121\n",
      "dtype: float64\n"
     ]
    }
   ],
   "source": [
    "# take a look at feature importance\n",
    "imp = pd.Series(model.feature_importances_, index=X.columns)\n",
    "imp = imp.sort_values(ascending=False)\n",
    "print(imp)"
   ]
  },
  {
   "cell_type": "markdown",
   "id": "7488e4c7",
   "metadata": {},
   "source": [
    "It is clear that the most important feature is account_age_days and org_id. It is recommended that the company focus on that. What could be done is provide incentives to get people to sign up, down the line, the more accounts we have and the longer users have had an account, the more adopted users we will get. Next, org_id is a big factor too. That tells us that if we can agressively pursue institutional users through companies, that would be good for obtaining adopted users. Also noteworthy, looking at creation source, guest invite and personal project are amongt the top of adopted users. "
   ]
  },
  {
   "cell_type": "code",
   "execution_count": null,
   "id": "349403f9",
   "metadata": {},
   "outputs": [],
   "source": []
  }
 ],
 "metadata": {
  "kernelspec": {
   "display_name": "Python 3 (ipykernel)",
   "language": "python",
   "name": "python3"
  },
  "language_info": {
   "codemirror_mode": {
    "name": "ipython",
    "version": 3
   },
   "file_extension": ".py",
   "mimetype": "text/x-python",
   "name": "python",
   "nbconvert_exporter": "python",
   "pygments_lexer": "ipython3",
   "version": "3.9.12"
  }
 },
 "nbformat": 4,
 "nbformat_minor": 5
}
