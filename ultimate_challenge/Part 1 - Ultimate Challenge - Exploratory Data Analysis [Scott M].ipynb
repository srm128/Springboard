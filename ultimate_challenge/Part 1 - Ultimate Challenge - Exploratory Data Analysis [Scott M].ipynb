{
 "cells": [
  {
   "cell_type": "markdown",
   "id": "a15a10c6",
   "metadata": {},
   "source": [
    "Ultimate Inc. Challenge\n"
   ]
  },
  {
   "cell_type": "markdown",
   "id": "c27d1b6a",
   "metadata": {},
   "source": [
    "Part 1 - Exploratory Data Analysis"
   ]
  },
  {
   "cell_type": "code",
   "execution_count": 1,
   "id": "ddf79772",
   "metadata": {},
   "outputs": [],
   "source": [
    "import json\n",
    "import pandas as pd\n",
    "import numpy as np\n",
    "import matplotlib.pyplot as plt\n",
    "import seaborn as sns\n",
    "%matplotlib inline\n",
    "plt.style.use('seaborn')\n",
    "import datetime\n"
   ]
  },
  {
   "cell_type": "code",
   "execution_count": 2,
   "id": "0f1c14dd",
   "metadata": {},
   "outputs": [],
   "source": [
    "login_times = pd.read_json('logins.json')"
   ]
  },
  {
   "cell_type": "code",
   "execution_count": null,
   "id": "2c532b63",
   "metadata": {},
   "outputs": [],
   "source": []
  },
  {
   "cell_type": "code",
   "execution_count": 3,
   "id": "6579c6e2",
   "metadata": {},
   "outputs": [
    {
     "data": {
      "text/html": [
       "<div>\n",
       "<style scoped>\n",
       "    .dataframe tbody tr th:only-of-type {\n",
       "        vertical-align: middle;\n",
       "    }\n",
       "\n",
       "    .dataframe tbody tr th {\n",
       "        vertical-align: top;\n",
       "    }\n",
       "\n",
       "    .dataframe thead th {\n",
       "        text-align: right;\n",
       "    }\n",
       "</style>\n",
       "<table border=\"1\" class=\"dataframe\">\n",
       "  <thead>\n",
       "    <tr style=\"text-align: right;\">\n",
       "      <th></th>\n",
       "      <th>login_time</th>\n",
       "    </tr>\n",
       "  </thead>\n",
       "  <tbody>\n",
       "    <tr>\n",
       "      <th>0</th>\n",
       "      <td>1970-01-01 20:13:18</td>\n",
       "    </tr>\n",
       "    <tr>\n",
       "      <th>1</th>\n",
       "      <td>1970-01-01 20:16:10</td>\n",
       "    </tr>\n",
       "    <tr>\n",
       "      <th>2</th>\n",
       "      <td>1970-01-01 20:16:37</td>\n",
       "    </tr>\n",
       "    <tr>\n",
       "      <th>3</th>\n",
       "      <td>1970-01-01 20:16:36</td>\n",
       "    </tr>\n",
       "    <tr>\n",
       "      <th>4</th>\n",
       "      <td>1970-01-01 20:26:21</td>\n",
       "    </tr>\n",
       "  </tbody>\n",
       "</table>\n",
       "</div>"
      ],
      "text/plain": [
       "           login_time\n",
       "0 1970-01-01 20:13:18\n",
       "1 1970-01-01 20:16:10\n",
       "2 1970-01-01 20:16:37\n",
       "3 1970-01-01 20:16:36\n",
       "4 1970-01-01 20:26:21"
      ]
     },
     "execution_count": 3,
     "metadata": {},
     "output_type": "execute_result"
    }
   ],
   "source": [
    "login_times.head()\n"
   ]
  },
  {
   "cell_type": "code",
   "execution_count": 4,
   "id": "7209bc28",
   "metadata": {},
   "outputs": [
    {
     "data": {
      "text/plain": [
       "Index(['login_time'], dtype='object')"
      ]
     },
     "execution_count": 4,
     "metadata": {},
     "output_type": "execute_result"
    }
   ],
   "source": [
    "# keys\n",
    "login_times.keys()"
   ]
  },
  {
   "cell_type": "code",
   "execution_count": 5,
   "id": "aaf8b054",
   "metadata": {},
   "outputs": [
    {
     "name": "stdout",
     "output_type": "stream",
     "text": [
      "93142\n"
     ]
    }
   ],
   "source": [
    "# How many entries\n",
    "print(len(login_times['login_time']))"
   ]
  },
  {
   "cell_type": "code",
   "execution_count": 6,
   "id": "b8945a18",
   "metadata": {},
   "outputs": [
    {
     "name": "stdout",
     "output_type": "stream",
     "text": [
      "<class 'pandas.core.frame.DataFrame'>\n",
      "RangeIndex: 93142 entries, 0 to 93141\n",
      "Data columns (total 1 columns):\n",
      " #   Column      Non-Null Count  Dtype         \n",
      "---  ------      --------------  -----         \n",
      " 0   login_time  93142 non-null  datetime64[ns]\n",
      "dtypes: datetime64[ns](1)\n",
      "memory usage: 727.8 KB\n"
     ]
    }
   ],
   "source": [
    "login_times.info()\n"
   ]
  },
  {
   "cell_type": "code",
   "execution_count": 7,
   "id": "ef447f40",
   "metadata": {},
   "outputs": [],
   "source": [
    "df = login_times"
   ]
  },
  {
   "cell_type": "code",
   "execution_count": 8,
   "id": "92e243b1",
   "metadata": {},
   "outputs": [],
   "source": [
    "missing_values = df.isnull()\n",
    "missing_counts = df.isnull().sum()\n",
    "\n",
    "# To check if there are any missing values in the entire DataFrame:\n",
    "any_missing = df.isnull().any().any()\n",
    "\n",
    "# To get a summary of missing values, you can use:\n",
    "missing_summary = df.isnull().sum().to_frame(name='Missing Count')\n",
    "missing_summary['Percentage'] = (missing_summary['Missing Count'] / len(df)) * 100\n"
   ]
  },
  {
   "cell_type": "code",
   "execution_count": 9,
   "id": "e9c81f75",
   "metadata": {},
   "outputs": [
    {
     "name": "stdout",
     "output_type": "stream",
     "text": [
      "Missing Values:\n",
      "       login_time\n",
      "0           False\n",
      "1           False\n",
      "2           False\n",
      "3           False\n",
      "4           False\n",
      "...           ...\n",
      "93137       False\n",
      "93138       False\n",
      "93139       False\n",
      "93140       False\n",
      "93141       False\n",
      "\n",
      "[93142 rows x 1 columns]\n",
      "\n",
      "Missing Value Counts:\n",
      "login_time    0\n",
      "dtype: int64\n",
      "\n",
      "Any Missing Values:\n",
      "False\n",
      "\n",
      "Missing Value Summary:\n",
      "            Missing Count  Percentage\n",
      "login_time              0         0.0\n"
     ]
    }
   ],
   "source": [
    "\n",
    "# Check for missing values\n",
    "missing_values = df.isnull()\n",
    "missing_counts = df.isnull().sum()\n",
    "any_missing = df.isnull().any().any()\n",
    "missing_summary = df.isnull().sum().to_frame(name='Missing Count')\n",
    "missing_summary['Percentage'] = (missing_summary['Missing Count'] / len(df)) * 100\n",
    "\n",
    "# Print the results\n",
    "print(\"Missing Values:\")\n",
    "print(missing_values)\n",
    "\n",
    "print(\"\\nMissing Value Counts:\")\n",
    "print(missing_counts)\n",
    "\n",
    "print(\"\\nAny Missing Values:\")\n",
    "print(any_missing)\n",
    "\n",
    "print(\"\\nMissing Value Summary:\")\n",
    "print(missing_summary)"
   ]
  },
  {
   "cell_type": "markdown",
   "id": "47d0b3a4",
   "metadata": {},
   "source": [
    "Aggregate these login counts based on 15 minute time intervals.\n",
    "\n"
   ]
  },
  {
   "cell_type": "code",
   "execution_count": 10,
   "id": "499f778f",
   "metadata": {},
   "outputs": [],
   "source": [
    "df.set_index('login_time', inplace=True)\n",
    "df['count'] = 1\n",
    "df.sort_index(inplace=True)"
   ]
  },
  {
   "cell_type": "code",
   "execution_count": 11,
   "id": "db3f54ec",
   "metadata": {},
   "outputs": [
    {
     "data": {
      "text/html": [
       "<div>\n",
       "<style scoped>\n",
       "    .dataframe tbody tr th:only-of-type {\n",
       "        vertical-align: middle;\n",
       "    }\n",
       "\n",
       "    .dataframe tbody tr th {\n",
       "        vertical-align: top;\n",
       "    }\n",
       "\n",
       "    .dataframe thead th {\n",
       "        text-align: right;\n",
       "    }\n",
       "</style>\n",
       "<table border=\"1\" class=\"dataframe\">\n",
       "  <thead>\n",
       "    <tr style=\"text-align: right;\">\n",
       "      <th></th>\n",
       "      <th>count</th>\n",
       "    </tr>\n",
       "    <tr>\n",
       "      <th>login_time</th>\n",
       "      <th></th>\n",
       "    </tr>\n",
       "  </thead>\n",
       "  <tbody>\n",
       "    <tr>\n",
       "      <th>1970-01-01 20:00:00</th>\n",
       "      <td>2</td>\n",
       "    </tr>\n",
       "    <tr>\n",
       "      <th>1970-01-01 20:15:00</th>\n",
       "      <td>6</td>\n",
       "    </tr>\n",
       "    <tr>\n",
       "      <th>1970-01-01 20:30:00</th>\n",
       "      <td>9</td>\n",
       "    </tr>\n",
       "    <tr>\n",
       "      <th>1970-01-01 20:45:00</th>\n",
       "      <td>7</td>\n",
       "    </tr>\n",
       "    <tr>\n",
       "      <th>1970-01-01 21:00:00</th>\n",
       "      <td>1</td>\n",
       "    </tr>\n",
       "  </tbody>\n",
       "</table>\n",
       "</div>"
      ],
      "text/plain": [
       "                     count\n",
       "login_time                \n",
       "1970-01-01 20:00:00      2\n",
       "1970-01-01 20:15:00      6\n",
       "1970-01-01 20:30:00      9\n",
       "1970-01-01 20:45:00      7\n",
       "1970-01-01 21:00:00      1"
      ]
     },
     "execution_count": 11,
     "metadata": {},
     "output_type": "execute_result"
    }
   ],
   "source": [
    "df_agg = df.resample(\"15min\").sum()\n",
    "df_agg.head()"
   ]
  },
  {
   "cell_type": "code",
   "execution_count": 12,
   "id": "b9b0a1b8",
   "metadata": {},
   "outputs": [
    {
     "data": {
      "text/plain": [
       "93142"
      ]
     },
     "execution_count": 12,
     "metadata": {},
     "output_type": "execute_result"
    }
   ],
   "source": [
    "df_agg['count'].sum()"
   ]
  },
  {
   "cell_type": "markdown",
   "id": "b3f41457",
   "metadata": {},
   "source": [
    "Visualize and describe the resulting time series of login counts"
   ]
  },
  {
   "cell_type": "code",
   "execution_count": 13,
   "id": "433f5bdd",
   "metadata": {},
   "outputs": [
    {
     "name": "stdout",
     "output_type": "stream",
     "text": [
      "<class 'pandas.core.frame.DataFrame'>\n",
      "DatetimeIndex: 9788 entries, 1970-01-01 20:00:00 to 1970-04-13 18:45:00\n",
      "Freq: 15T\n",
      "Data columns (total 1 columns):\n",
      " #   Column  Non-Null Count  Dtype\n",
      "---  ------  --------------  -----\n",
      " 0   count   9788 non-null   int64\n",
      "dtypes: int64(1)\n",
      "memory usage: 152.9 KB\n"
     ]
    }
   ],
   "source": [
    "df_agg.info()"
   ]
  },
  {
   "cell_type": "markdown",
   "id": "bb8decf8",
   "metadata": {},
   "source": [
    "Data starts on January 1, 1970 and ends on April 13, 1970. "
   ]
  },
  {
   "cell_type": "code",
   "execution_count": 14,
   "id": "f0540f22",
   "metadata": {},
   "outputs": [
    {
     "data": {
      "image/png": "[encoded data removed]",
      "text/plain": [
       "<Figure size 576x396 with 1 Axes>"
      ]
     },
     "metadata": {},
     "output_type": "display_data"
    }
   ],
   "source": [
    "df_agg.plot()\n",
    "plt.show()"
   ]
  },
  {
   "cell_type": "markdown",
   "id": "6d3ec98a",
   "metadata": {},
   "source": [
    "There seems to be sudden spikes immediatly followed by going back to usual pattern. "
   ]
  },
  {
   "cell_type": "code",
   "execution_count": 15,
   "id": "bcffd429",
   "metadata": {},
   "outputs": [
    {
     "data": {
      "text/html": [
       "<div>\n",
       "<style scoped>\n",
       "    .dataframe tbody tr th:only-of-type {\n",
       "        vertical-align: middle;\n",
       "    }\n",
       "\n",
       "    .dataframe tbody tr th {\n",
       "        vertical-align: top;\n",
       "    }\n",
       "\n",
       "    .dataframe thead th {\n",
       "        text-align: right;\n",
       "    }\n",
       "</style>\n",
       "<table border=\"1\" class=\"dataframe\">\n",
       "  <thead>\n",
       "    <tr style=\"text-align: right;\">\n",
       "      <th></th>\n",
       "      <th>count</th>\n",
       "    </tr>\n",
       "  </thead>\n",
       "  <tbody>\n",
       "    <tr>\n",
       "      <th>count</th>\n",
       "      <td>9788.000000</td>\n",
       "    </tr>\n",
       "    <tr>\n",
       "      <th>mean</th>\n",
       "      <td>9.515938</td>\n",
       "    </tr>\n",
       "    <tr>\n",
       "      <th>std</th>\n",
       "      <td>8.328818</td>\n",
       "    </tr>\n",
       "    <tr>\n",
       "      <th>min</th>\n",
       "      <td>0.000000</td>\n",
       "    </tr>\n",
       "    <tr>\n",
       "      <th>25%</th>\n",
       "      <td>3.000000</td>\n",
       "    </tr>\n",
       "    <tr>\n",
       "      <th>50%</th>\n",
       "      <td>7.000000</td>\n",
       "    </tr>\n",
       "    <tr>\n",
       "      <th>75%</th>\n",
       "      <td>13.000000</td>\n",
       "    </tr>\n",
       "    <tr>\n",
       "      <th>max</th>\n",
       "      <td>73.000000</td>\n",
       "    </tr>\n",
       "  </tbody>\n",
       "</table>\n",
       "</div>"
      ],
      "text/plain": [
       "             count\n",
       "count  9788.000000\n",
       "mean      9.515938\n",
       "std       8.328818\n",
       "min       0.000000\n",
       "25%       3.000000\n",
       "50%       7.000000\n",
       "75%      13.000000\n",
       "max      73.000000"
      ]
     },
     "execution_count": 15,
     "metadata": {},
     "output_type": "execute_result"
    }
   ],
   "source": [
    "df_agg.describe()"
   ]
  },
  {
   "cell_type": "markdown",
   "id": "5fdaf09f",
   "metadata": {},
   "source": [
    "The average number of logins per 15 minutes is 9.52 while the median is 7. The numbers are probably being influenced by the previously mentioned spikes."
   ]
  },
  {
   "cell_type": "code",
   "execution_count": 16,
   "id": "044bd41e",
   "metadata": {},
   "outputs": [
    {
     "data": {
      "text/html": [
       "<div>\n",
       "<style scoped>\n",
       "    .dataframe tbody tr th:only-of-type {\n",
       "        vertical-align: middle;\n",
       "    }\n",
       "\n",
       "    .dataframe tbody tr th {\n",
       "        vertical-align: top;\n",
       "    }\n",
       "\n",
       "    .dataframe thead th {\n",
       "        text-align: right;\n",
       "    }\n",
       "</style>\n",
       "<table border=\"1\" class=\"dataframe\">\n",
       "  <thead>\n",
       "    <tr style=\"text-align: right;\">\n",
       "      <th></th>\n",
       "      <th>count</th>\n",
       "      <th>month</th>\n",
       "      <th>month_day</th>\n",
       "      <th>weekday</th>\n",
       "    </tr>\n",
       "    <tr>\n",
       "      <th>login_time</th>\n",
       "      <th></th>\n",
       "      <th></th>\n",
       "      <th></th>\n",
       "      <th></th>\n",
       "    </tr>\n",
       "  </thead>\n",
       "  <tbody>\n",
       "    <tr>\n",
       "      <th>1970-01-01 20:00:00</th>\n",
       "      <td>2</td>\n",
       "      <td>1</td>\n",
       "      <td>1</td>\n",
       "      <td>3</td>\n",
       "    </tr>\n",
       "    <tr>\n",
       "      <th>1970-01-01 20:15:00</th>\n",
       "      <td>6</td>\n",
       "      <td>1</td>\n",
       "      <td>1</td>\n",
       "      <td>3</td>\n",
       "    </tr>\n",
       "    <tr>\n",
       "      <th>1970-01-01 20:30:00</th>\n",
       "      <td>9</td>\n",
       "      <td>1</td>\n",
       "      <td>1</td>\n",
       "      <td>3</td>\n",
       "    </tr>\n",
       "    <tr>\n",
       "      <th>1970-01-01 20:45:00</th>\n",
       "      <td>7</td>\n",
       "      <td>1</td>\n",
       "      <td>1</td>\n",
       "      <td>3</td>\n",
       "    </tr>\n",
       "    <tr>\n",
       "      <th>1970-01-01 21:00:00</th>\n",
       "      <td>1</td>\n",
       "      <td>1</td>\n",
       "      <td>1</td>\n",
       "      <td>3</td>\n",
       "    </tr>\n",
       "  </tbody>\n",
       "</table>\n",
       "</div>"
      ],
      "text/plain": [
       "                     count  month  month_day  weekday\n",
       "login_time                                           \n",
       "1970-01-01 20:00:00      2      1          1        3\n",
       "1970-01-01 20:15:00      6      1          1        3\n",
       "1970-01-01 20:30:00      9      1          1        3\n",
       "1970-01-01 20:45:00      7      1          1        3\n",
       "1970-01-01 21:00:00      1      1          1        3"
      ]
     },
     "execution_count": 16,
     "metadata": {},
     "output_type": "execute_result"
    }
   ],
   "source": [
    "#Adding columns to better look at the data\n",
    "df_agg = df_agg.assign(month=df_agg.index.month)\n",
    "df_agg = df_agg.assign(month_day=df_agg.index.day)\n",
    "df_agg = df_agg.assign(weekday=df_agg.index.weekday)\n",
    "df_agg.head()"
   ]
  },
  {
   "cell_type": "code",
   "execution_count": null,
   "id": "96da430a",
   "metadata": {},
   "outputs": [],
   "source": []
  },
  {
   "cell_type": "code",
   "execution_count": 17,
   "id": "4a08a356",
   "metadata": {},
   "outputs": [
    {
     "name": "stdout",
     "output_type": "stream",
     "text": [
      "There are values equal to 0 in the 'count' column.\n"
     ]
    }
   ],
   "source": [
    "if (df_agg['count'] == 0).any():\n",
    "    print(\"There are values equal to 0 in the 'count' column.\")\n",
    "else:\n",
    "    print(\"There are no values equal to 0 in the 'count' column.\")"
   ]
  },
  {
   "cell_type": "code",
   "execution_count": 18,
   "id": "0db1e7c9",
   "metadata": {},
   "outputs": [],
   "source": [
    "# let's try to figure out when the spikes occur.\n",
    "spike = np.quantile(df_agg,0.99)\n",
    "df_spike = df_agg[df_agg['count'] >= spike]\n",
    "months = []\n",
    "month_days = []\n",
    "weekdays = []\n",
    "\n",
    "for date in df_spike.index:\n",
    "    month_days.append(date.day)\n",
    "    weekdays.append(date.weekday())\n",
    "    \n",
    "df_spike_months = pd.DataFrame(months,columns=['month'],index=range(len(months)))  \n",
    "df_spike_days = pd.DataFrame(month_days,columns=['day'],index=range(len(month_days)))\n",
    "df_spike_weekdays = pd.DataFrame(weekdays,columns=['weekday'],index=range(len(weekdays)))\n"
   ]
  },
  {
   "cell_type": "code",
   "execution_count": 19,
   "id": "05f6200b",
   "metadata": {},
   "outputs": [
    {
     "data": {
      "text/plain": [
       "21    25\n",
       "4     24\n",
       "22    18\n",
       "15    18\n",
       "28    17\n",
       "7     15\n",
       "8     15\n",
       "14    14\n",
       "29    14\n",
       "3     13\n",
       "12    13\n",
       "13    11\n",
       "1     11\n",
       "18    10\n",
       "11    10\n",
       "6      9\n",
       "19     9\n",
       "27     8\n",
       "5      8\n",
       "17     7\n",
       "10     4\n",
       "20     4\n",
       "2      4\n",
       "25     2\n",
       "24     1\n",
       "16     1\n",
       "30     1\n",
       "Name: day, dtype: int64"
      ]
     },
     "execution_count": 19,
     "metadata": {},
     "output_type": "execute_result"
    }
   ],
   "source": [
    "df_spike_days.day.value_counts()\n"
   ]
  },
  {
   "cell_type": "markdown",
   "id": "c0307dcd",
   "metadata": {},
   "source": [
    "While there are some that seem to have more than others, it is not easy to see a pattern in the data above. Also, not all months have equal number of days. "
   ]
  },
  {
   "cell_type": "code",
   "execution_count": 20,
   "id": "d502896b",
   "metadata": {},
   "outputs": [
    {
     "data": {
      "text/plain": [
       "5    104\n",
       "6    103\n",
       "4     48\n",
       "3     15\n",
       "2      7\n",
       "1      7\n",
       "0      2\n",
       "Name: weekday, dtype: int64"
      ]
     },
     "execution_count": 20,
     "metadata": {},
     "output_type": "execute_result"
    }
   ],
   "source": [
    "df_spike_weekdays.weekday.value_counts()\n"
   ]
  },
  {
   "cell_type": "code",
   "execution_count": 21,
   "id": "5678e3f0",
   "metadata": {},
   "outputs": [
    {
     "data": {
      "text/plain": [
       "Saturday     104\n",
       "Sunday       103\n",
       "Friday        48\n",
       "Thursday      15\n",
       "Wednesday      7\n",
       "Tuesday        7\n",
       "Monday         2\n",
       "Name: weekday, dtype: int64"
      ]
     },
     "execution_count": 21,
     "metadata": {},
     "output_type": "execute_result"
    }
   ],
   "source": [
    "#let's look at the actual names:\n",
    "\n",
    "weekday_names = {\n",
    "    0: 'Monday',\n",
    "    1: 'Tuesday',\n",
    "    2: 'Wednesday',\n",
    "    3: 'Thursday',\n",
    "    4: 'Friday',\n",
    "    5: 'Saturday',\n",
    "    6: 'Sunday'\n",
    "}\n",
    "\n",
    "weekday_counts = df_spike_weekdays['weekday'].value_counts().rename(index=weekday_names)\n",
    "\n",
    "weekday_counts"
   ]
  },
  {
   "cell_type": "markdown",
   "id": "0d344f35",
   "metadata": {},
   "source": [
    "It appears that most of the logins occur during weekends. "
   ]
  },
  {
   "cell_type": "code",
   "execution_count": 22,
   "id": "eba6edbc",
   "metadata": {},
   "outputs": [],
   "source": [
    "df_agg = df_agg.assign(time=df_agg.index.time)\n"
   ]
  },
  {
   "cell_type": "code",
   "execution_count": 23,
   "id": "a3ec0fc7",
   "metadata": {},
   "outputs": [
    {
     "data": {
      "text/html": [
       "<div>\n",
       "<style scoped>\n",
       "    .dataframe tbody tr th:only-of-type {\n",
       "        vertical-align: middle;\n",
       "    }\n",
       "\n",
       "    .dataframe tbody tr th {\n",
       "        vertical-align: top;\n",
       "    }\n",
       "\n",
       "    .dataframe thead th {\n",
       "        text-align: right;\n",
       "    }\n",
       "</style>\n",
       "<table border=\"1\" class=\"dataframe\">\n",
       "  <thead>\n",
       "    <tr style=\"text-align: right;\">\n",
       "      <th></th>\n",
       "      <th>count</th>\n",
       "      <th>month</th>\n",
       "      <th>month_day</th>\n",
       "      <th>weekday</th>\n",
       "      <th>time</th>\n",
       "    </tr>\n",
       "    <tr>\n",
       "      <th>login_time</th>\n",
       "      <th></th>\n",
       "      <th></th>\n",
       "      <th></th>\n",
       "      <th></th>\n",
       "      <th></th>\n",
       "    </tr>\n",
       "  </thead>\n",
       "  <tbody>\n",
       "    <tr>\n",
       "      <th>1970-01-01 20:00:00</th>\n",
       "      <td>2</td>\n",
       "      <td>1</td>\n",
       "      <td>1</td>\n",
       "      <td>3</td>\n",
       "      <td>20:00:00</td>\n",
       "    </tr>\n",
       "    <tr>\n",
       "      <th>1970-01-01 20:15:00</th>\n",
       "      <td>6</td>\n",
       "      <td>1</td>\n",
       "      <td>1</td>\n",
       "      <td>3</td>\n",
       "      <td>20:15:00</td>\n",
       "    </tr>\n",
       "    <tr>\n",
       "      <th>1970-01-01 20:30:00</th>\n",
       "      <td>9</td>\n",
       "      <td>1</td>\n",
       "      <td>1</td>\n",
       "      <td>3</td>\n",
       "      <td>20:30:00</td>\n",
       "    </tr>\n",
       "    <tr>\n",
       "      <th>1970-01-01 20:45:00</th>\n",
       "      <td>7</td>\n",
       "      <td>1</td>\n",
       "      <td>1</td>\n",
       "      <td>3</td>\n",
       "      <td>20:45:00</td>\n",
       "    </tr>\n",
       "    <tr>\n",
       "      <th>1970-01-01 21:00:00</th>\n",
       "      <td>1</td>\n",
       "      <td>1</td>\n",
       "      <td>1</td>\n",
       "      <td>3</td>\n",
       "      <td>21:00:00</td>\n",
       "    </tr>\n",
       "    <tr>\n",
       "      <th>...</th>\n",
       "      <td>...</td>\n",
       "      <td>...</td>\n",
       "      <td>...</td>\n",
       "      <td>...</td>\n",
       "      <td>...</td>\n",
       "    </tr>\n",
       "    <tr>\n",
       "      <th>1970-04-13 17:45:00</th>\n",
       "      <td>5</td>\n",
       "      <td>4</td>\n",
       "      <td>13</td>\n",
       "      <td>0</td>\n",
       "      <td>17:45:00</td>\n",
       "    </tr>\n",
       "    <tr>\n",
       "      <th>1970-04-13 18:00:00</th>\n",
       "      <td>5</td>\n",
       "      <td>4</td>\n",
       "      <td>13</td>\n",
       "      <td>0</td>\n",
       "      <td>18:00:00</td>\n",
       "    </tr>\n",
       "    <tr>\n",
       "      <th>1970-04-13 18:15:00</th>\n",
       "      <td>2</td>\n",
       "      <td>4</td>\n",
       "      <td>13</td>\n",
       "      <td>0</td>\n",
       "      <td>18:15:00</td>\n",
       "    </tr>\n",
       "    <tr>\n",
       "      <th>1970-04-13 18:30:00</th>\n",
       "      <td>7</td>\n",
       "      <td>4</td>\n",
       "      <td>13</td>\n",
       "      <td>0</td>\n",
       "      <td>18:30:00</td>\n",
       "    </tr>\n",
       "    <tr>\n",
       "      <th>1970-04-13 18:45:00</th>\n",
       "      <td>6</td>\n",
       "      <td>4</td>\n",
       "      <td>13</td>\n",
       "      <td>0</td>\n",
       "      <td>18:45:00</td>\n",
       "    </tr>\n",
       "  </tbody>\n",
       "</table>\n",
       "<p>9788 rows × 5 columns</p>\n",
       "</div>"
      ],
      "text/plain": [
       "                     count  month  month_day  weekday      time\n",
       "login_time                                                     \n",
       "1970-01-01 20:00:00      2      1          1        3  20:00:00\n",
       "1970-01-01 20:15:00      6      1          1        3  20:15:00\n",
       "1970-01-01 20:30:00      9      1          1        3  20:30:00\n",
       "1970-01-01 20:45:00      7      1          1        3  20:45:00\n",
       "1970-01-01 21:00:00      1      1          1        3  21:00:00\n",
       "...                    ...    ...        ...      ...       ...\n",
       "1970-04-13 17:45:00      5      4         13        0  17:45:00\n",
       "1970-04-13 18:00:00      5      4         13        0  18:00:00\n",
       "1970-04-13 18:15:00      2      4         13        0  18:15:00\n",
       "1970-04-13 18:30:00      7      4         13        0  18:30:00\n",
       "1970-04-13 18:45:00      6      4         13        0  18:45:00\n",
       "\n",
       "[9788 rows x 5 columns]"
      ]
     },
     "execution_count": 23,
     "metadata": {},
     "output_type": "execute_result"
    }
   ],
   "source": [
    "df_agg"
   ]
  },
  {
   "cell_type": "code",
   "execution_count": 24,
   "id": "3c673640",
   "metadata": {},
   "outputs": [
    {
     "data": {
      "text/plain": [
       "count         int64\n",
       "month         int64\n",
       "month_day     int64\n",
       "weekday       int64\n",
       "time         object\n",
       "dtype: object"
      ]
     },
     "execution_count": 24,
     "metadata": {},
     "output_type": "execute_result"
    }
   ],
   "source": [
    "df_agg.dtypes"
   ]
  },
  {
   "cell_type": "code",
   "execution_count": 28,
   "id": "2697766a",
   "metadata": {},
   "outputs": [
    {
     "name": "stdout",
     "output_type": "stream",
     "text": [
      "Most popular times of day and their counts:\n",
      "Time: 22:30:00, Count: 1684\n",
      "Time: 01:30:00, Count: 1673\n",
      "Time: 22:15:00, Count: 1652\n",
      "Time: 22:45:00, Count: 1637\n",
      "Time: 22:00:00, Count: 1634\n",
      "Time: 11:30:00, Count: 1622\n",
      "Time: 01:15:00, Count: 1598\n",
      "Time: 23:00:00, Count: 1573\n",
      "Time: 11:45:00, Count: 1570\n",
      "Time: 21:45:00, Count: 1554\n",
      "Time: 23:15:00, Count: 1552\n",
      "Time: 01:00:00, Count: 1549\n",
      "Time: 00:15:00, Count: 1547\n",
      "Time: 02:15:00, Count: 1526\n",
      "Time: 00:30:00, Count: 1525\n",
      "Time: 02:00:00, Count: 1509\n",
      "Time: 01:45:00, Count: 1497\n",
      "Time: 21:30:00, Count: 1492\n",
      "Time: 00:45:00, Count: 1482\n",
      "Time: 23:45:00, Count: 1477\n"
     ]
    }
   ],
   "source": [
    "\n",
    "# Group by 'time' and calculate the sum of 'count' for each time\n",
    "time_counts = df_agg.groupby('time')['count'].sum()\n",
    "\n",
    "# Find the most popular time of day (maximum count)\n",
    "most_popular_times = time_counts.nlargest(20)  # Get the top 5 most popular times\n",
    "\n",
    "# Print the list of most popular times with their counts\n",
    "print(\"Most popular times of day and their counts:\")\n",
    "for time, count in most_popular_times.items():\n",
    "    print(f\"Time: {time}, Count: {count}\")"
   ]
  },
  {
   "cell_type": "code",
   "execution_count": 31,
   "id": "57e34d90",
   "metadata": {},
   "outputs": [
    {
     "data": {
      "image/png": "[encoded data removed]",
      "text/plain": [
       "<Figure size 720x432 with 1 Axes>"
      ]
     },
     "metadata": {},
     "output_type": "display_data"
    }
   ],
   "source": [
    "# Group by 'time' and calculate the sum of 'count' for each time\n",
    "time_counts = df_agg.groupby('time')['count'].sum()\n",
    "\n",
    "# Plotting\n",
    "plt.figure(figsize=(10, 6))\n",
    "time_counts.plot(kind='line', color='blue')\n",
    "plt.title('Counts of Logins Throughout the Day')\n",
    "plt.xlabel('Time of Day')\n",
    "plt.ylabel('Total Count')\n",
    "plt.xticks(rotation=45)\n",
    "plt.tight_layout()\n",
    "plt.show()"
   ]
  },
  {
   "cell_type": "code",
   "execution_count": 34,
   "id": "f3288c79",
   "metadata": {},
   "outputs": [
    {
     "data": {
      "image/png": "[encoded data removed]",
      "text/plain": [
       "<Figure size 720x864 with 2 Axes>"
      ]
     },
     "metadata": {},
     "output_type": "display_data"
    }
   ],
   "source": [
    "# Group by 'time' and calculate the sum of 'count' for each time\n",
    "time_counts = df_agg.groupby('time')['count'].sum()\n",
    "\n",
    "# Create separate DataFrames for weekdays and weekends\n",
    "weekdays_df = df_agg[df_agg['weekday'] <= 4]\n",
    "weekends_df = df_agg[df_agg['weekday'] >= 5]\n",
    "\n",
    "# Group by 'time' and calculate the sum of 'count' for each time for weekdays and weekends\n",
    "weekdays_counts = weekdays_df.groupby('time')['count'].sum()\n",
    "weekends_counts = weekends_df.groupby('time')['count'].sum()\n",
    "\n",
    "# Plotting\n",
    "fig, axes = plt.subplots(nrows=2, figsize=(10, 12), sharex=True)\n",
    "\n",
    "# Weekdays plot\n",
    "weekdays_counts.plot(ax=axes[0], kind='line', color='blue')\n",
    "axes[0].set_title('Counts of Logins Throughout the Day (Weekdays)')\n",
    "axes[0].set_ylabel('Total Count')\n",
    "\n",
    "# Weekends plot\n",
    "weekends_counts.plot(ax=axes[1], kind='line', color='green')\n",
    "axes[1].set_title('Counts of Logins Throughout the Day (Weekends)')\n",
    "axes[1].set_xlabel('Time of Day')\n",
    "axes[1].set_ylabel('Total Count')\n",
    "\n",
    "plt.xticks(rotation=45)\n",
    "plt.tight_layout()\n",
    "plt.show()"
   ]
  },
  {
   "cell_type": "markdown",
   "id": "9efa91fd",
   "metadata": {},
   "source": [
    "It appears that during weekdays, there is a spike during morning, noon, and evening. Most likely heading to work, lunch, and then returning home. Interestingly, during weekends, there is a spike in the early morning, then a drastic slowdown until very late morning through the evening where rides happen consistently and are more evenly spreadout. That might be explained as people trying to get to their location early morning and then they go home whenever they are ready. "
   ]
  }
 ],
 "metadata": {
  "kernelspec": {
   "display_name": "Python 3 (ipykernel)",
   "language": "python",
   "name": "python3"
  },
  "language_info": {
   "codemirror_mode": {
    "name": "ipython",
    "version": 3
   },
   "file_extension": ".py",
   "mimetype": "text/x-python",
   "name": "python",
   "nbconvert_exporter": "python",
   "pygments_lexer": "ipython3",
   "version": "3.9.12"
  }
 },
 "nbformat": 4,
 "nbformat_minor": 5
}
